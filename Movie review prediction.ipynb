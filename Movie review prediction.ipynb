{
 "cells": [
  {
   "cell_type": "markdown",
   "id": "970ceded-7078-48d6-a99c-89520b96e811",
   "metadata": {},
   "source": [
    "# Importing necessary libraries"
   ]
  },
  {
   "cell_type": "code",
   "execution_count": 1,
   "id": "9450d9ab-1bae-44b0-8f77-32276aa1cd9b",
   "metadata": {},
   "outputs": [],
   "source": [
    "import numpy as np \n",
    "import pandas as pd\n",
    "import matplotlib.pyplot as plt\n",
    "import re\n",
    "import string\n",
    "from sklearn.impute import SimpleImputer\n",
    "from sklearn.impute import KNNImputer\n",
    "import seaborn as sns\n",
    "from sklearn.linear_model import LogisticRegression\n",
    "from sklearn.model_selection import KFold\n",
    "from sklearn.model_selection import cross_val_score\n",
    "from sklearn.feature_extraction.text import CountVectorizer\n",
    "from sklearn.metrics import classification_report\n",
    "from sklearn.neighbors import KNeighborsClassifier\n",
    "from sklearn.svm import SVC\n",
    "from sklearn.model_selection import GridSearchCV\n",
    "from sklearn.model_selection import train_test_split\n",
    "from sklearn.preprocessing import LabelEncoder, MinMaxScaler"
   ]
  },
  {
   "cell_type": "markdown",
   "id": "d9fb95bf-e2d2-45f2-9966-c8eba7730b4c",
   "metadata": {},
   "source": [
    "# Loading the data"
   ]
  },
  {
   "cell_type": "code",
   "execution_count": 2,
   "id": "be9bbe74-ff77-4eb0-9b74-14d2c90b3d64",
   "metadata": {},
   "outputs": [],
   "source": [
    "movies_data = pd.read_csv('movies.csv')\n",
    "sample_data = pd.read_csv('sample.csv')\n",
    "test = pd.read_csv('test.csv')\n",
    "train = pd.read_csv('train.csv')"
   ]
  },
  {
   "cell_type": "markdown",
   "id": "5de84438-1a8c-437b-8d1b-94c2ff17f17e",
   "metadata": {},
   "source": [
    "# Copying the data for further manipulation"
   ]
  },
  {
   "cell_type": "code",
   "execution_count": 3,
   "id": "50537a8c-7282-4efd-a418-603dcf3221ab",
   "metadata": {},
   "outputs": [],
   "source": [
    "movie_copy = movies_data \n",
    "test_copy = test \n",
    "train_copy = train"
   ]
  },
  {
   "cell_type": "markdown",
   "id": "930ac07d-5f90-4bc3-b986-ce47c5babf64",
   "metadata": {},
   "source": [
    "# Movies_data"
   ]
  },
  {
   "cell_type": "code",
   "execution_count": 4,
   "id": "d6fc29b6-7224-44f3-bc37-94fc3e765a6e",
   "metadata": {},
   "outputs": [
    {
     "name": "stdout",
     "output_type": "stream",
     "text": [
      "<class 'pandas.core.frame.DataFrame'>\n",
      "RangeIndex: 143258 entries, 0 to 143257\n",
      "Data columns (total 14 columns):\n",
      " #   Column                Non-Null Count   Dtype  \n",
      "---  ------                --------------   -----  \n",
      " 0   movieid               143258 non-null  object \n",
      " 1   title                 143258 non-null  object \n",
      " 2   audienceScore         73248 non-null   float64\n",
      " 3   rating                13991 non-null   object \n",
      " 4   ratingContents        13991 non-null   object \n",
      " 5   releaseDateTheaters   30773 non-null   object \n",
      " 6   releaseDateStreaming  79420 non-null   object \n",
      " 7   runtimeMinutes        129431 non-null  float64\n",
      " 8   genre                 132175 non-null  object \n",
      " 9   originalLanguage      129400 non-null  object \n",
      " 10  director              143258 non-null  object \n",
      " 11  boxOffice             14743 non-null   object \n",
      " 12  distributor           23001 non-null   object \n",
      " 13  soundType             15917 non-null   object \n",
      "dtypes: float64(2), object(12)\n",
      "memory usage: 15.3+ MB\n"
     ]
    }
   ],
   "source": [
    "movie_copy.info()"
   ]
  },
  {
   "cell_type": "code",
   "execution_count": 5,
   "id": "d9f58667-7972-4efd-9db7-adc200139c28",
   "metadata": {},
   "outputs": [
    {
     "data": {
      "text/html": [
       "<div>\n",
       "<style scoped>\n",
       "    .dataframe tbody tr th:only-of-type {\n",
       "        vertical-align: middle;\n",
       "    }\n",
       "\n",
       "    .dataframe tbody tr th {\n",
       "        vertical-align: top;\n",
       "    }\n",
       "\n",
       "    .dataframe thead th {\n",
       "        text-align: right;\n",
       "    }\n",
       "</style>\n",
       "<table border=\"1\" class=\"dataframe\">\n",
       "  <thead>\n",
       "    <tr style=\"text-align: right;\">\n",
       "      <th></th>\n",
       "      <th>audienceScore</th>\n",
       "      <th>runtimeMinutes</th>\n",
       "    </tr>\n",
       "  </thead>\n",
       "  <tbody>\n",
       "    <tr>\n",
       "      <th>count</th>\n",
       "      <td>73248.000000</td>\n",
       "      <td>129431.000000</td>\n",
       "    </tr>\n",
       "    <tr>\n",
       "      <th>mean</th>\n",
       "      <td>55.674967</td>\n",
       "      <td>93.708578</td>\n",
       "    </tr>\n",
       "    <tr>\n",
       "      <th>std</th>\n",
       "      <td>24.553648</td>\n",
       "      <td>28.129175</td>\n",
       "    </tr>\n",
       "    <tr>\n",
       "      <th>min</th>\n",
       "      <td>0.000000</td>\n",
       "      <td>1.000000</td>\n",
       "    </tr>\n",
       "    <tr>\n",
       "      <th>25%</th>\n",
       "      <td>37.000000</td>\n",
       "      <td>84.000000</td>\n",
       "    </tr>\n",
       "    <tr>\n",
       "      <th>50%</th>\n",
       "      <td>57.000000</td>\n",
       "      <td>92.000000</td>\n",
       "    </tr>\n",
       "    <tr>\n",
       "      <th>75%</th>\n",
       "      <td>76.000000</td>\n",
       "      <td>103.000000</td>\n",
       "    </tr>\n",
       "    <tr>\n",
       "      <th>max</th>\n",
       "      <td>100.000000</td>\n",
       "      <td>2700.000000</td>\n",
       "    </tr>\n",
       "  </tbody>\n",
       "</table>\n",
       "</div>"
      ],
      "text/plain": [
       "       audienceScore  runtimeMinutes\n",
       "count   73248.000000   129431.000000\n",
       "mean       55.674967       93.708578\n",
       "std        24.553648       28.129175\n",
       "min         0.000000        1.000000\n",
       "25%        37.000000       84.000000\n",
       "50%        57.000000       92.000000\n",
       "75%        76.000000      103.000000\n",
       "max       100.000000     2700.000000"
      ]
     },
     "execution_count": 5,
     "metadata": {},
     "output_type": "execute_result"
    }
   ],
   "source": [
    "movie_copy.describe()"
   ]
  },
  {
   "cell_type": "code",
   "execution_count": 6,
   "id": "6e3fcec1-0940-45f1-9a5f-c03acb800ab0",
   "metadata": {},
   "outputs": [
    {
     "data": {
      "text/plain": [
       "movieid                      0\n",
       "title                        0\n",
       "audienceScore            70010\n",
       "rating                  129267\n",
       "ratingContents          129267\n",
       "releaseDateTheaters     112485\n",
       "releaseDateStreaming     63838\n",
       "runtimeMinutes           13827\n",
       "genre                    11083\n",
       "originalLanguage         13858\n",
       "director                     0\n",
       "boxOffice               128515\n",
       "distributor             120257\n",
       "soundType               127341\n",
       "dtype: int64"
      ]
     },
     "execution_count": 6,
     "metadata": {},
     "output_type": "execute_result"
    }
   ],
   "source": [
    "movie_copy.isna().sum()"
   ]
  },
  {
   "cell_type": "markdown",
   "id": "45b75899-eb1f-4c95-ae0d-3c43729408e0",
   "metadata": {},
   "source": [
    "- Here, we can see that there are more than 1,00,000 null entries. Because the majority of the data will be synthetic, imputing these values to train our model will result in biassed predictions. Thus, we shall remove these columns."
   ]
  },
  {
   "cell_type": "code",
   "execution_count": 7,
   "id": "b755a7c7-21a7-457f-805d-71ff3f5d5404",
   "metadata": {},
   "outputs": [
    {
     "data": {
      "text/html": [
       "<div>\n",
       "<style scoped>\n",
       "    .dataframe tbody tr th:only-of-type {\n",
       "        vertical-align: middle;\n",
       "    }\n",
       "\n",
       "    .dataframe tbody tr th {\n",
       "        vertical-align: top;\n",
       "    }\n",
       "\n",
       "    .dataframe thead th {\n",
       "        text-align: right;\n",
       "    }\n",
       "</style>\n",
       "<table border=\"1\" class=\"dataframe\">\n",
       "  <thead>\n",
       "    <tr style=\"text-align: right;\">\n",
       "      <th></th>\n",
       "      <th>movieid</th>\n",
       "      <th>title</th>\n",
       "      <th>audienceScore</th>\n",
       "      <th>rating</th>\n",
       "      <th>ratingContents</th>\n",
       "      <th>releaseDateTheaters</th>\n",
       "      <th>releaseDateStreaming</th>\n",
       "      <th>runtimeMinutes</th>\n",
       "      <th>genre</th>\n",
       "      <th>originalLanguage</th>\n",
       "      <th>director</th>\n",
       "      <th>boxOffice</th>\n",
       "      <th>distributor</th>\n",
       "      <th>soundType</th>\n",
       "    </tr>\n",
       "  </thead>\n",
       "  <tbody>\n",
       "    <tr>\n",
       "      <th>1126</th>\n",
       "      <td>escape_the_terminator_tyler_durden_astonish</td>\n",
       "      <td>Escape The Terminator Tyler Durden Astonish</td>\n",
       "      <td>NaN</td>\n",
       "      <td>NaN</td>\n",
       "      <td>NaN</td>\n",
       "      <td>NaN</td>\n",
       "      <td>NaN</td>\n",
       "      <td>NaN</td>\n",
       "      <td>NaN</td>\n",
       "      <td>NaN</td>\n",
       "      <td>Joseph Brooks</td>\n",
       "      <td>NaN</td>\n",
       "      <td>NaN</td>\n",
       "      <td>NaN</td>\n",
       "    </tr>\n",
       "    <tr>\n",
       "      <th>3772</th>\n",
       "      <td>supreme_indiana_jones</td>\n",
       "      <td>Supreme Indiana Jones</td>\n",
       "      <td>NaN</td>\n",
       "      <td>NaN</td>\n",
       "      <td>NaN</td>\n",
       "      <td>NaN</td>\n",
       "      <td>NaN</td>\n",
       "      <td>NaN</td>\n",
       "      <td>NaN</td>\n",
       "      <td>NaN</td>\n",
       "      <td>Augusta Daniel</td>\n",
       "      <td>NaN</td>\n",
       "      <td>NaN</td>\n",
       "      <td>NaN</td>\n",
       "    </tr>\n",
       "    <tr>\n",
       "      <th>5048</th>\n",
       "      <td>escape_the_terminator_tyler_durden_astonish</td>\n",
       "      <td>Escape The Terminator Tyler Durden Astonish</td>\n",
       "      <td>NaN</td>\n",
       "      <td>NaN</td>\n",
       "      <td>NaN</td>\n",
       "      <td>NaN</td>\n",
       "      <td>NaN</td>\n",
       "      <td>NaN</td>\n",
       "      <td>NaN</td>\n",
       "      <td>NaN</td>\n",
       "      <td>Joseph Brooks</td>\n",
       "      <td>NaN</td>\n",
       "      <td>NaN</td>\n",
       "      <td>NaN</td>\n",
       "    </tr>\n",
       "    <tr>\n",
       "      <th>7364</th>\n",
       "      <td>escape_the_terminator_tyler_durden_astonish</td>\n",
       "      <td>Escape The Terminator Tyler Durden Astonish</td>\n",
       "      <td>NaN</td>\n",
       "      <td>NaN</td>\n",
       "      <td>NaN</td>\n",
       "      <td>NaN</td>\n",
       "      <td>NaN</td>\n",
       "      <td>NaN</td>\n",
       "      <td>NaN</td>\n",
       "      <td>NaN</td>\n",
       "      <td>Joseph Brooks</td>\n",
       "      <td>NaN</td>\n",
       "      <td>NaN</td>\n",
       "      <td>NaN</td>\n",
       "    </tr>\n",
       "    <tr>\n",
       "      <th>8012</th>\n",
       "      <td>holly_golightly_enthralling</td>\n",
       "      <td>Holly Golightly Enthralling</td>\n",
       "      <td>NaN</td>\n",
       "      <td>NaN</td>\n",
       "      <td>NaN</td>\n",
       "      <td>NaN</td>\n",
       "      <td>NaN</td>\n",
       "      <td>NaN</td>\n",
       "      <td>NaN</td>\n",
       "      <td>NaN</td>\n",
       "      <td>Augusta Daniel</td>\n",
       "      <td>NaN</td>\n",
       "      <td>NaN</td>\n",
       "      <td>NaN</td>\n",
       "    </tr>\n",
       "    <tr>\n",
       "      <th>...</th>\n",
       "      <td>...</td>\n",
       "      <td>...</td>\n",
       "      <td>...</td>\n",
       "      <td>...</td>\n",
       "      <td>...</td>\n",
       "      <td>...</td>\n",
       "      <td>...</td>\n",
       "      <td>...</td>\n",
       "      <td>...</td>\n",
       "      <td>...</td>\n",
       "      <td>...</td>\n",
       "      <td>...</td>\n",
       "      <td>...</td>\n",
       "      <td>...</td>\n",
       "    </tr>\n",
       "    <tr>\n",
       "      <th>140598</th>\n",
       "      <td>cosmic_jack_torrance_ellis_redding_indiana_jones</td>\n",
       "      <td>Cosmic Jack Torrance Ellis Redding Indiana Jones</td>\n",
       "      <td>NaN</td>\n",
       "      <td>NaN</td>\n",
       "      <td>NaN</td>\n",
       "      <td>NaN</td>\n",
       "      <td>NaN</td>\n",
       "      <td>NaN</td>\n",
       "      <td>NaN</td>\n",
       "      <td>NaN</td>\n",
       "      <td>Augusta Daniel</td>\n",
       "      <td>NaN</td>\n",
       "      <td>NaN</td>\n",
       "      <td>NaN</td>\n",
       "    </tr>\n",
       "    <tr>\n",
       "      <th>140654</th>\n",
       "      <td>the_bride_hannibal_lecter_enigma_black_widow</td>\n",
       "      <td>The Bride Hannibal Lecter Enigma Black Widow</td>\n",
       "      <td>NaN</td>\n",
       "      <td>NaN</td>\n",
       "      <td>NaN</td>\n",
       "      <td>NaN</td>\n",
       "      <td>NaN</td>\n",
       "      <td>89.0</td>\n",
       "      <td>Drama</td>\n",
       "      <td>English</td>\n",
       "      <td>Raul Glover</td>\n",
       "      <td>NaN</td>\n",
       "      <td>NaN</td>\n",
       "      <td>NaN</td>\n",
       "    </tr>\n",
       "    <tr>\n",
       "      <th>141470</th>\n",
       "      <td>wolverine_tony_montana_wolverine</td>\n",
       "      <td>Wolverine Tony Montana Wolverine</td>\n",
       "      <td>NaN</td>\n",
       "      <td>NaN</td>\n",
       "      <td>NaN</td>\n",
       "      <td>NaN</td>\n",
       "      <td>NaN</td>\n",
       "      <td>NaN</td>\n",
       "      <td>NaN</td>\n",
       "      <td>NaN</td>\n",
       "      <td>Augusta Daniel</td>\n",
       "      <td>NaN</td>\n",
       "      <td>NaN</td>\n",
       "      <td>NaN</td>\n",
       "    </tr>\n",
       "    <tr>\n",
       "      <th>142468</th>\n",
       "      <td>escape_the_terminator_tyler_durden_astonish</td>\n",
       "      <td>Escape The Terminator Tyler Durden Astonish</td>\n",
       "      <td>NaN</td>\n",
       "      <td>NaN</td>\n",
       "      <td>NaN</td>\n",
       "      <td>NaN</td>\n",
       "      <td>NaN</td>\n",
       "      <td>NaN</td>\n",
       "      <td>NaN</td>\n",
       "      <td>NaN</td>\n",
       "      <td>Joseph Brooks</td>\n",
       "      <td>NaN</td>\n",
       "      <td>NaN</td>\n",
       "      <td>NaN</td>\n",
       "    </tr>\n",
       "    <tr>\n",
       "      <th>143139</th>\n",
       "      <td>quest_rick_blaine_wonder_jason_bourne</td>\n",
       "      <td>Quest Rick Blaine Wonder Jason Bourne</td>\n",
       "      <td>NaN</td>\n",
       "      <td>NaN</td>\n",
       "      <td>NaN</td>\n",
       "      <td>NaN</td>\n",
       "      <td>NaN</td>\n",
       "      <td>NaN</td>\n",
       "      <td>NaN</td>\n",
       "      <td>NaN</td>\n",
       "      <td>Augusta Daniel</td>\n",
       "      <td>NaN</td>\n",
       "      <td>NaN</td>\n",
       "      <td>NaN</td>\n",
       "    </tr>\n",
       "  </tbody>\n",
       "</table>\n",
       "<p>1571 rows × 14 columns</p>\n",
       "</div>"
      ],
      "text/plain": [
       "                                                 movieid  \\\n",
       "1126         escape_the_terminator_tyler_durden_astonish   \n",
       "3772                               supreme_indiana_jones   \n",
       "5048         escape_the_terminator_tyler_durden_astonish   \n",
       "7364         escape_the_terminator_tyler_durden_astonish   \n",
       "8012                         holly_golightly_enthralling   \n",
       "...                                                  ...   \n",
       "140598  cosmic_jack_torrance_ellis_redding_indiana_jones   \n",
       "140654      the_bride_hannibal_lecter_enigma_black_widow   \n",
       "141470                  wolverine_tony_montana_wolverine   \n",
       "142468       escape_the_terminator_tyler_durden_astonish   \n",
       "143139             quest_rick_blaine_wonder_jason_bourne   \n",
       "\n",
       "                                                   title  audienceScore  \\\n",
       "1126         Escape The Terminator Tyler Durden Astonish            NaN   \n",
       "3772                               Supreme Indiana Jones            NaN   \n",
       "5048         Escape The Terminator Tyler Durden Astonish            NaN   \n",
       "7364         Escape The Terminator Tyler Durden Astonish            NaN   \n",
       "8012                         Holly Golightly Enthralling            NaN   \n",
       "...                                                  ...            ...   \n",
       "140598  Cosmic Jack Torrance Ellis Redding Indiana Jones            NaN   \n",
       "140654      The Bride Hannibal Lecter Enigma Black Widow            NaN   \n",
       "141470                  Wolverine Tony Montana Wolverine            NaN   \n",
       "142468       Escape The Terminator Tyler Durden Astonish            NaN   \n",
       "143139             Quest Rick Blaine Wonder Jason Bourne            NaN   \n",
       "\n",
       "       rating ratingContents releaseDateTheaters releaseDateStreaming  \\\n",
       "1126      NaN            NaN                 NaN                  NaN   \n",
       "3772      NaN            NaN                 NaN                  NaN   \n",
       "5048      NaN            NaN                 NaN                  NaN   \n",
       "7364      NaN            NaN                 NaN                  NaN   \n",
       "8012      NaN            NaN                 NaN                  NaN   \n",
       "...       ...            ...                 ...                  ...   \n",
       "140598    NaN            NaN                 NaN                  NaN   \n",
       "140654    NaN            NaN                 NaN                  NaN   \n",
       "141470    NaN            NaN                 NaN                  NaN   \n",
       "142468    NaN            NaN                 NaN                  NaN   \n",
       "143139    NaN            NaN                 NaN                  NaN   \n",
       "\n",
       "        runtimeMinutes  genre originalLanguage        director boxOffice  \\\n",
       "1126               NaN    NaN              NaN   Joseph Brooks       NaN   \n",
       "3772               NaN    NaN              NaN  Augusta Daniel       NaN   \n",
       "5048               NaN    NaN              NaN   Joseph Brooks       NaN   \n",
       "7364               NaN    NaN              NaN   Joseph Brooks       NaN   \n",
       "8012               NaN    NaN              NaN  Augusta Daniel       NaN   \n",
       "...                ...    ...              ...             ...       ...   \n",
       "140598             NaN    NaN              NaN  Augusta Daniel       NaN   \n",
       "140654            89.0  Drama          English     Raul Glover       NaN   \n",
       "141470             NaN    NaN              NaN  Augusta Daniel       NaN   \n",
       "142468             NaN    NaN              NaN   Joseph Brooks       NaN   \n",
       "143139             NaN    NaN              NaN  Augusta Daniel       NaN   \n",
       "\n",
       "       distributor soundType  \n",
       "1126           NaN       NaN  \n",
       "3772           NaN       NaN  \n",
       "5048           NaN       NaN  \n",
       "7364           NaN       NaN  \n",
       "8012           NaN       NaN  \n",
       "...            ...       ...  \n",
       "140598         NaN       NaN  \n",
       "140654         NaN       NaN  \n",
       "141470         NaN       NaN  \n",
       "142468         NaN       NaN  \n",
       "143139         NaN       NaN  \n",
       "\n",
       "[1571 rows x 14 columns]"
      ]
     },
     "execution_count": 7,
     "metadata": {},
     "output_type": "execute_result"
    }
   ],
   "source": [
    "movies_duplicate = movie_copy.duplicated()\n",
    "\n",
    "# Get the rows that are duplicates\n",
    "duplicate_rows = movie_copy[movies_duplicate]\n",
    "\n",
    "# Display the duplicate rows\n",
    "duplicate_rows"
   ]
  },
  {
   "cell_type": "markdown",
   "id": "adec29fa-fbf2-459c-8bb2-b5ed3976a3a4",
   "metadata": {},
   "source": [
    "## Summary of the movies dataset\n",
    "\n",
    "> The columns : **'rating','ratingContents','releaseDateTheaters','boxOffice','distributor','soundType'** have over **1,00,000** null values and imputing these columns might be a bad idea. \n",
    "\n",
    "> **Removing** them would be a better idea. \n",
    "\n",
    "\n",
    "> There are **1571 duplicate** entries in the dataset. "
   ]
  },
  {
   "cell_type": "markdown",
   "id": "4d7c7167-291b-482b-a717-5b2821f3639b",
   "metadata": {},
   "source": [
    "# Exploratory Data Analysis & Data pre-processing"
   ]
  },
  {
   "cell_type": "markdown",
   "id": "e9fa9c5d-3d52-4dfa-8d5a-4e4eb369da3e",
   "metadata": {},
   "source": [
    "# Train Dataset"
   ]
  },
  {
   "cell_type": "code",
   "execution_count": 8,
   "id": "51e1ac5a-d801-4b55-ae5a-d619e87112b3",
   "metadata": {},
   "outputs": [
    {
     "data": {
      "text/html": [
       "<div>\n",
       "<style scoped>\n",
       "    .dataframe tbody tr th:only-of-type {\n",
       "        vertical-align: middle;\n",
       "    }\n",
       "\n",
       "    .dataframe tbody tr th {\n",
       "        vertical-align: top;\n",
       "    }\n",
       "\n",
       "    .dataframe thead th {\n",
       "        text-align: right;\n",
       "    }\n",
       "</style>\n",
       "<table border=\"1\" class=\"dataframe\">\n",
       "  <thead>\n",
       "    <tr style=\"text-align: right;\">\n",
       "      <th></th>\n",
       "      <th>movieid</th>\n",
       "      <th>reviewerName</th>\n",
       "      <th>isFrequentReviewer</th>\n",
       "      <th>reviewText</th>\n",
       "      <th>sentiment</th>\n",
       "    </tr>\n",
       "  </thead>\n",
       "  <tbody>\n",
       "    <tr>\n",
       "      <th>0</th>\n",
       "      <td>marvelous_pirate</td>\n",
       "      <td>Benjamin Henry</td>\n",
       "      <td>False</td>\n",
       "      <td>Henry Selick’s first movie since 2009’s Corali...</td>\n",
       "      <td>POSITIVE</td>\n",
       "    </tr>\n",
       "    <tr>\n",
       "      <th>1</th>\n",
       "      <td>tony_montana_frodo_baggins_v_rocky_balboa</td>\n",
       "      <td>Felicia Lopez</td>\n",
       "      <td>False</td>\n",
       "      <td>With a cast that reads like the Vogue Oscar pa...</td>\n",
       "      <td>NEGATIVE</td>\n",
       "    </tr>\n",
       "    <tr>\n",
       "      <th>2</th>\n",
       "      <td>darth_vader_katniss_everdeen_sorcerer_donnie_d...</td>\n",
       "      <td>Mr. Charles Burgess</td>\n",
       "      <td>True</td>\n",
       "      <td>Creed II does not give us anything but another...</td>\n",
       "      <td>POSITIVE</td>\n",
       "    </tr>\n",
       "    <tr>\n",
       "      <th>3</th>\n",
       "      <td>lara_croft_glimmer</td>\n",
       "      <td>Ryan Barrett</td>\n",
       "      <td>False</td>\n",
       "      <td>I know what you're thinking, but this is no Li...</td>\n",
       "      <td>POSITIVE</td>\n",
       "    </tr>\n",
       "    <tr>\n",
       "      <th>4</th>\n",
       "      <td>jason_bourne_surreal_the_terminator_indiana_jones</td>\n",
       "      <td>Alexander Glover</td>\n",
       "      <td>False</td>\n",
       "      <td>Director Fernando Meirelles tells the story wi...</td>\n",
       "      <td>POSITIVE</td>\n",
       "    </tr>\n",
       "    <tr>\n",
       "      <th>...</th>\n",
       "      <td>...</td>\n",
       "      <td>...</td>\n",
       "      <td>...</td>\n",
       "      <td>...</td>\n",
       "      <td>...</td>\n",
       "    </tr>\n",
       "    <tr>\n",
       "      <th>162753</th>\n",
       "      <td>the_joker_ethereal_captain_jack_sparrow_fantastic</td>\n",
       "      <td>Danny Mueller</td>\n",
       "      <td>False</td>\n",
       "      <td>A top-notch thriller with genuine surprises an...</td>\n",
       "      <td>POSITIVE</td>\n",
       "    </tr>\n",
       "    <tr>\n",
       "      <th>162754</th>\n",
       "      <td>e.t._hannibal_lecter_vito_corleone_katniss_eve...</td>\n",
       "      <td>Jennifer Clayton</td>\n",
       "      <td>True</td>\n",
       "      <td>Some people find Derek Zoolander funny and lik...</td>\n",
       "      <td>NEGATIVE</td>\n",
       "    </tr>\n",
       "    <tr>\n",
       "      <th>162755</th>\n",
       "      <td>infinite_enigma_luke_skywalker</td>\n",
       "      <td>Bryan Wilson</td>\n",
       "      <td>False</td>\n",
       "      <td>This fun, gentle comedy focuses mainly on them...</td>\n",
       "      <td>POSITIVE</td>\n",
       "    </tr>\n",
       "    <tr>\n",
       "      <th>162756</th>\n",
       "      <td>emerald_oracle_iron_man_wolverine</td>\n",
       "      <td>Erik Parker</td>\n",
       "      <td>False</td>\n",
       "      <td>The film is rescued by a strong third act, but...</td>\n",
       "      <td>NEGATIVE</td>\n",
       "    </tr>\n",
       "    <tr>\n",
       "      <th>162757</th>\n",
       "      <td>james_t._kirk_phenomenal_zephyr_chronicles</td>\n",
       "      <td>Howard Evans</td>\n",
       "      <td>False</td>\n",
       "      <td>A peerless exercise in stimulus response.</td>\n",
       "      <td>POSITIVE</td>\n",
       "    </tr>\n",
       "  </tbody>\n",
       "</table>\n",
       "<p>162758 rows × 5 columns</p>\n",
       "</div>"
      ],
      "text/plain": [
       "                                                  movieid  \\\n",
       "0                                        marvelous_pirate   \n",
       "1               tony_montana_frodo_baggins_v_rocky_balboa   \n",
       "2       darth_vader_katniss_everdeen_sorcerer_donnie_d...   \n",
       "3                                      lara_croft_glimmer   \n",
       "4       jason_bourne_surreal_the_terminator_indiana_jones   \n",
       "...                                                   ...   \n",
       "162753  the_joker_ethereal_captain_jack_sparrow_fantastic   \n",
       "162754  e.t._hannibal_lecter_vito_corleone_katniss_eve...   \n",
       "162755                     infinite_enigma_luke_skywalker   \n",
       "162756                  emerald_oracle_iron_man_wolverine   \n",
       "162757         james_t._kirk_phenomenal_zephyr_chronicles   \n",
       "\n",
       "               reviewerName  isFrequentReviewer  \\\n",
       "0            Benjamin Henry               False   \n",
       "1             Felicia Lopez               False   \n",
       "2       Mr. Charles Burgess                True   \n",
       "3              Ryan Barrett               False   \n",
       "4          Alexander Glover               False   \n",
       "...                     ...                 ...   \n",
       "162753        Danny Mueller               False   \n",
       "162754     Jennifer Clayton                True   \n",
       "162755         Bryan Wilson               False   \n",
       "162756          Erik Parker               False   \n",
       "162757         Howard Evans               False   \n",
       "\n",
       "                                               reviewText sentiment  \n",
       "0       Henry Selick’s first movie since 2009’s Corali...  POSITIVE  \n",
       "1       With a cast that reads like the Vogue Oscar pa...  NEGATIVE  \n",
       "2       Creed II does not give us anything but another...  POSITIVE  \n",
       "3       I know what you're thinking, but this is no Li...  POSITIVE  \n",
       "4       Director Fernando Meirelles tells the story wi...  POSITIVE  \n",
       "...                                                   ...       ...  \n",
       "162753  A top-notch thriller with genuine surprises an...  POSITIVE  \n",
       "162754  Some people find Derek Zoolander funny and lik...  NEGATIVE  \n",
       "162755  This fun, gentle comedy focuses mainly on them...  POSITIVE  \n",
       "162756  The film is rescued by a strong third act, but...  NEGATIVE  \n",
       "162757          A peerless exercise in stimulus response.  POSITIVE  \n",
       "\n",
       "[162758 rows x 5 columns]"
      ]
     },
     "execution_count": 8,
     "metadata": {},
     "output_type": "execute_result"
    }
   ],
   "source": [
    "train_copy"
   ]
  },
  {
   "cell_type": "code",
   "execution_count": 9,
   "id": "dddae1c4-277a-4d42-b5ed-444d0c517ee5",
   "metadata": {},
   "outputs": [
    {
     "name": "stdout",
     "output_type": "stream",
     "text": [
      "<class 'pandas.core.frame.DataFrame'>\n",
      "RangeIndex: 162758 entries, 0 to 162757\n",
      "Data columns (total 5 columns):\n",
      " #   Column              Non-Null Count   Dtype \n",
      "---  ------              --------------   ----- \n",
      " 0   movieid             162758 non-null  object\n",
      " 1   reviewerName        162758 non-null  object\n",
      " 2   isFrequentReviewer  162758 non-null  bool  \n",
      " 3   reviewText          156311 non-null  object\n",
      " 4   sentiment           162758 non-null  object\n",
      "dtypes: bool(1), object(4)\n",
      "memory usage: 5.1+ MB\n"
     ]
    }
   ],
   "source": [
    "train_copy.info()"
   ]
  },
  {
   "cell_type": "code",
   "execution_count": 10,
   "id": "3049e0e2-903f-4e40-a137-6c900adc36ae",
   "metadata": {},
   "outputs": [
    {
     "data": {
      "text/html": [
       "<div>\n",
       "<style scoped>\n",
       "    .dataframe tbody tr th:only-of-type {\n",
       "        vertical-align: middle;\n",
       "    }\n",
       "\n",
       "    .dataframe tbody tr th {\n",
       "        vertical-align: top;\n",
       "    }\n",
       "\n",
       "    .dataframe thead th {\n",
       "        text-align: right;\n",
       "    }\n",
       "</style>\n",
       "<table border=\"1\" class=\"dataframe\">\n",
       "  <thead>\n",
       "    <tr style=\"text-align: right;\">\n",
       "      <th></th>\n",
       "      <th>movieid</th>\n",
       "      <th>reviewerName</th>\n",
       "      <th>isFrequentReviewer</th>\n",
       "      <th>reviewText</th>\n",
       "      <th>sentiment</th>\n",
       "    </tr>\n",
       "  </thead>\n",
       "  <tbody>\n",
       "    <tr>\n",
       "      <th>count</th>\n",
       "      <td>162758</td>\n",
       "      <td>162758</td>\n",
       "      <td>162758</td>\n",
       "      <td>156311</td>\n",
       "      <td>162758</td>\n",
       "    </tr>\n",
       "    <tr>\n",
       "      <th>unique</th>\n",
       "      <td>16812</td>\n",
       "      <td>4482</td>\n",
       "      <td>2</td>\n",
       "      <td>155071</td>\n",
       "      <td>2</td>\n",
       "    </tr>\n",
       "    <tr>\n",
       "      <th>top</th>\n",
       "      <td>escape_the_terminator_tyler_durden_astonish</td>\n",
       "      <td>Sherri Morrison</td>\n",
       "      <td>False</td>\n",
       "      <td>Parental Content Review</td>\n",
       "      <td>POSITIVE</td>\n",
       "    </tr>\n",
       "    <tr>\n",
       "      <th>freq</th>\n",
       "      <td>708</td>\n",
       "      <td>962</td>\n",
       "      <td>113189</td>\n",
       "      <td>29</td>\n",
       "      <td>108761</td>\n",
       "    </tr>\n",
       "  </tbody>\n",
       "</table>\n",
       "</div>"
      ],
      "text/plain": [
       "                                            movieid     reviewerName  \\\n",
       "count                                        162758           162758   \n",
       "unique                                        16812             4482   \n",
       "top     escape_the_terminator_tyler_durden_astonish  Sherri Morrison   \n",
       "freq                                            708              962   \n",
       "\n",
       "       isFrequentReviewer               reviewText sentiment  \n",
       "count              162758                   156311    162758  \n",
       "unique                  2                   155071         2  \n",
       "top                 False  Parental Content Review  POSITIVE  \n",
       "freq               113189                       29    108761  "
      ]
     },
     "execution_count": 10,
     "metadata": {},
     "output_type": "execute_result"
    }
   ],
   "source": [
    "train_copy.describe()"
   ]
  },
  {
   "cell_type": "code",
   "execution_count": 11,
   "id": "20c258b4-439c-46f2-ba4e-4c479924ede4",
   "metadata": {},
   "outputs": [
    {
     "data": {
      "text/plain": [
       "sentiment\n",
       "POSITIVE    108761\n",
       "NEGATIVE     53997\n",
       "Name: count, dtype: int64"
      ]
     },
     "execution_count": 11,
     "metadata": {},
     "output_type": "execute_result"
    }
   ],
   "source": [
    "train['sentiment'].value_counts()\n"
   ]
  },
  {
   "cell_type": "code",
   "execution_count": 12,
   "id": "00628126-5d24-490b-9960-0a266c28a287",
   "metadata": {},
   "outputs": [
    {
     "data": {
      "text/plain": [
       "movieid                  0\n",
       "reviewerName             0\n",
       "isFrequentReviewer       0\n",
       "reviewText            6447\n",
       "sentiment                0\n",
       "dtype: int64"
      ]
     },
     "execution_count": 12,
     "metadata": {},
     "output_type": "execute_result"
    }
   ],
   "source": [
    "missing_train = train_copy.isna().sum()\n",
    "missing_train"
   ]
  },
  {
   "cell_type": "markdown",
   "id": "f78a120c-d268-4f6e-994a-bb75994df684",
   "metadata": {},
   "source": [
    "- We see that there are **6447** null entries in our train dataset."
   ]
  },
  {
   "cell_type": "code",
   "execution_count": 13,
   "id": "f501cf46-4420-4e41-8cb9-1c4d2aa72b82",
   "metadata": {},
   "outputs": [
    {
     "name": "stdout",
     "output_type": "stream",
     "text": [
      "Hence we see that the percentage of missing train['reviewText'] data  is: 3.9610956143476814\n"
     ]
    }
   ],
   "source": [
    "missing_train_percent = missing_train/len(train)*100\n",
    "\n",
    "print(\"Hence we see that the percentage of missing train['reviewText'] data  is:\",missing_train_percent['reviewText'])"
   ]
  },
  {
   "cell_type": "code",
   "execution_count": 14,
   "id": "4c41070d-d593-4aa5-8f23-157eb1fec328",
   "metadata": {},
   "outputs": [
    {
     "data": {
      "text/plain": [
       "reviewerName\n",
       "John Luna            783\n",
       "Bryan Phillips       677\n",
       "Daniel Schneider     656\n",
       "Don Hodges           597\n",
       "Robert Faulkner      503\n",
       "                    ... \n",
       "Cynthia Dalton         1\n",
       "Natalie Sloan          1\n",
       "Terry Roach            1\n",
       "Michael Gutierrez      1\n",
       "Chad Mueller           1\n",
       "Name: count, Length: 1460, dtype: int64"
      ]
     },
     "execution_count": 14,
     "metadata": {},
     "output_type": "execute_result"
    }
   ],
   "source": [
    "reviewer_counts=train_copy[train_copy['isFrequentReviewer'] == True]['reviewerName'].value_counts()\n",
    "reviewer_counts"
   ]
  },
  {
   "cell_type": "markdown",
   "id": "6acd48eb-b343-4b1d-8aa0-80f0ea3bc745",
   "metadata": {},
   "source": [
    "- From above result we have **John Luna** who has reviewed the most, followed by **Bryan Phillips**"
   ]
  },
  {
   "cell_type": "code",
   "execution_count": 15,
   "id": "5ced7aab-31ea-4607-ba5a-5943c6eeef27",
   "metadata": {},
   "outputs": [
    {
     "data": {
      "image/png": "[encoded data removed]",
      "text/plain": [
       "<Figure size 1000x600 with 1 Axes>"
      ]
     },
     "metadata": {},
     "output_type": "display_data"
    }
   ],
   "source": [
    "# Selecting the top 10 reviewers\n",
    "top_10_reviewers = reviewer_counts.head(10)\n",
    "\n",
    "# Creating the pie chart\n",
    "plt.figure(figsize=(10, 6))\n",
    "plt.pie(top_10_reviewers.values, labels=top_10_reviewers.index, autopct='%1.1f%%', startangle=140, colors=plt.cm.rainbow(np.linspace(0, 1, len(top_10_reviewers))))\n",
    "plt.title('Top 10 Frequent Reviewers by Number of Reviews')\n",
    "# Equal aspect ratio ensures that pie is drawn as a circle.\n",
    "plt.axis('equal')  \n",
    "plt.tight_layout()\n",
    "plt.show()"
   ]
  },
  {
   "cell_type": "code",
   "execution_count": 16,
   "id": "af7eafe2-aa82-49c1-9691-0f497ee3dcf7",
   "metadata": {},
   "outputs": [
    {
     "data": {
      "text/plain": [
       "sentiment\n",
       "POSITIVE    108761\n",
       "NEGATIVE     53997\n",
       "Name: count, dtype: int64"
      ]
     },
     "execution_count": 16,
     "metadata": {},
     "output_type": "execute_result"
    }
   ],
   "source": [
    "# Now let us look at the imbalance in the sentiment if there's any present\n",
    "\n",
    "sentiment_count = train_copy['sentiment'].value_counts()\n",
    "sentiment_count\n"
   ]
  },
  {
   "cell_type": "code",
   "execution_count": 17,
   "id": "ce102bf0-badf-4dd5-ae70-f34eeefa4816",
   "metadata": {},
   "outputs": [
    {
     "data": {
      "text/plain": [
       "sentiment\n",
       "POSITIVE    66.823751\n",
       "NEGATIVE    33.176249\n",
       "Name: count, dtype: float64"
      ]
     },
     "execution_count": 17,
     "metadata": {},
     "output_type": "execute_result"
    }
   ],
   "source": [
    "sentiment_percent = sentiment_count/len(train) * 100\n",
    "sentiment_percent"
   ]
  },
  {
   "cell_type": "code",
   "execution_count": 18,
   "id": "743a4590-fe58-4a12-a512-aa1dce567479",
   "metadata": {},
   "outputs": [
    {
     "data": {
      "image/png": "[encoded data removed]",
      "text/plain": [
       "<Figure size 800x600 with 1 Axes>"
      ]
     },
     "metadata": {},
     "output_type": "display_data"
    }
   ],
   "source": [
    "# Data for the horizontal bar chart\n",
    "labels = ['Positive', 'Negative']\n",
    "sizes = [66.823751, 33.176249]\n",
    "colors = ['cyan', 'Blue']\n",
    "\n",
    "# Create the horizontal bar chart\n",
    "plt.figure(figsize=(8, 6))\n",
    "bars = plt.barh(labels, sizes, color=colors)\n",
    "plt.xlabel('Percentage')\n",
    "plt.title('Sentiment Distribution')\n",
    "plt.xlim(0, 100) \n",
    "\n",
    "# Add percentage labels on the bars\n",
    "for bar, size in zip(bars, sizes):\n",
    "    plt.text(bar.get_width() - 5, bar.get_y() + bar.get_height() / 2,\n",
    "             f'{size:.1f}%', ha='center', va='center', color='black')\n",
    "\n",
    "plt.show()\n"
   ]
  },
  {
   "cell_type": "markdown",
   "id": "99ff23e4-2e81-40ce-aae8-5e1ae7681dd6",
   "metadata": {},
   "source": [
    "- There's almost twice as much of POSTIVE sentimented reviews versus NEGATIVE sentimented reviews. This suggests class imbalance. \n",
    "- Applying class imbalance techniques like **SMOTE, RandomOverSampler, RandomUnderSampler or ADYSN** might be a good idea."
   ]
  },
  {
   "cell_type": "markdown",
   "id": "92c70503-7bdc-4f18-9ed5-514e9438e205",
   "metadata": {},
   "source": [
    "# Summary of Train dataset\n",
    "\n",
    "> We have a total of **162758** entries in train dataset. Of these, there are **16812** unique **movieid** and there are **4482** unique reviewerName.\n",
    "\n",
    "> About **3.9610 %** of reviewName column has null values.\n",
    "\n",
    "> **John Luna** has reviewed the most, followed by **Bryan Phillips**\n",
    "\n",
    "> The train dataset is **imbalanced** with **66.823751% Positive** sentiment reviews and **33.176249% Negative** sentimented reviews"
   ]
  },
  {
   "cell_type": "markdown",
   "id": "32e5f586-0dca-4a73-ab3f-4c6dc0f393b0",
   "metadata": {},
   "source": [
    "# Test Dataset"
   ]
  },
  {
   "cell_type": "code",
   "execution_count": 19,
   "id": "cb3b4f86-b5f4-4f55-9e94-0f2761e269b4",
   "metadata": {},
   "outputs": [
    {
     "data": {
      "text/html": [
       "<div>\n",
       "<style scoped>\n",
       "    .dataframe tbody tr th:only-of-type {\n",
       "        vertical-align: middle;\n",
       "    }\n",
       "\n",
       "    .dataframe tbody tr th {\n",
       "        vertical-align: top;\n",
       "    }\n",
       "\n",
       "    .dataframe thead th {\n",
       "        text-align: right;\n",
       "    }\n",
       "</style>\n",
       "<table border=\"1\" class=\"dataframe\">\n",
       "  <thead>\n",
       "    <tr style=\"text-align: right;\">\n",
       "      <th></th>\n",
       "      <th>movieid</th>\n",
       "      <th>reviewerName</th>\n",
       "      <th>isTopCritic</th>\n",
       "      <th>reviewText</th>\n",
       "    </tr>\n",
       "  </thead>\n",
       "  <tbody>\n",
       "    <tr>\n",
       "      <th>0</th>\n",
       "      <td>legend_marty_mcfly_oracle</td>\n",
       "      <td>John Kim</td>\n",
       "      <td>False</td>\n",
       "      <td>Green slowly cranks up the dread with style an...</td>\n",
       "    </tr>\n",
       "    <tr>\n",
       "      <th>1</th>\n",
       "      <td>terminator_katniss_everdeen_glimmer</td>\n",
       "      <td>Brian Chaney</td>\n",
       "      <td>False</td>\n",
       "      <td>Philip Noyce's direction is elegant and unforc...</td>\n",
       "    </tr>\n",
       "    <tr>\n",
       "      <th>2</th>\n",
       "      <td>james_bond_labyrinth_gollum</td>\n",
       "      <td>Danielle Parker</td>\n",
       "      <td>False</td>\n",
       "      <td>It wouldn't do to say what path Maria ultimate...</td>\n",
       "    </tr>\n",
       "    <tr>\n",
       "      <th>3</th>\n",
       "      <td>v_quest_han_solo_wondrous</td>\n",
       "      <td>Brittany Lane</td>\n",
       "      <td>False</td>\n",
       "      <td>Pig is not exactly the arthouse John Wick that...</td>\n",
       "    </tr>\n",
       "    <tr>\n",
       "      <th>4</th>\n",
       "      <td>enigma_hulk_surreal_starlight</td>\n",
       "      <td>Justin Willis</td>\n",
       "      <td>False</td>\n",
       "      <td>An imaginative no-budget musical of sorts abou...</td>\n",
       "    </tr>\n",
       "    <tr>\n",
       "      <th>...</th>\n",
       "      <td>...</td>\n",
       "      <td>...</td>\n",
       "      <td>...</td>\n",
       "      <td>...</td>\n",
       "    </tr>\n",
       "    <tr>\n",
       "      <th>55310</th>\n",
       "      <td>celestial_radiant</td>\n",
       "      <td>Jose Mccormick</td>\n",
       "      <td>False</td>\n",
       "      <td>Ron Howard delivers an unconventional romantic...</td>\n",
       "    </tr>\n",
       "    <tr>\n",
       "      <th>55311</th>\n",
       "      <td>vivid_james_t._kirk</td>\n",
       "      <td>Thomas Osborne</td>\n",
       "      <td>False</td>\n",
       "      <td>As an oddball art film that openly invites you...</td>\n",
       "    </tr>\n",
       "    <tr>\n",
       "      <th>55312</th>\n",
       "      <td>scarlett_o'hara_neo_scarlett_o'hara_infinite</td>\n",
       "      <td>Julie Kirby</td>\n",
       "      <td>False</td>\n",
       "      <td>Nicholson wears his devilish grin from his fir...</td>\n",
       "    </tr>\n",
       "    <tr>\n",
       "      <th>55313</th>\n",
       "      <td>terminator_epic_rocky_balboa_mystic</td>\n",
       "      <td>Tina Sutton</td>\n",
       "      <td>True</td>\n",
       "      <td>It's hard not be entertained by two dozen of C...</td>\n",
       "    </tr>\n",
       "    <tr>\n",
       "      <th>55314</th>\n",
       "      <td>wolverine_enigma_ellis_redding_gandalf</td>\n",
       "      <td>Taylor Wilcox</td>\n",
       "      <td>True</td>\n",
       "      <td>Not clever enough for Smith fans, not gross en...</td>\n",
       "    </tr>\n",
       "  </tbody>\n",
       "</table>\n",
       "<p>55315 rows × 4 columns</p>\n",
       "</div>"
      ],
      "text/plain": [
       "                                            movieid     reviewerName  \\\n",
       "0                         legend_marty_mcfly_oracle         John Kim   \n",
       "1               terminator_katniss_everdeen_glimmer     Brian Chaney   \n",
       "2                       james_bond_labyrinth_gollum  Danielle Parker   \n",
       "3                         v_quest_han_solo_wondrous    Brittany Lane   \n",
       "4                     enigma_hulk_surreal_starlight    Justin Willis   \n",
       "...                                             ...              ...   \n",
       "55310                             celestial_radiant   Jose Mccormick   \n",
       "55311                           vivid_james_t._kirk   Thomas Osborne   \n",
       "55312  scarlett_o'hara_neo_scarlett_o'hara_infinite      Julie Kirby   \n",
       "55313           terminator_epic_rocky_balboa_mystic      Tina Sutton   \n",
       "55314        wolverine_enigma_ellis_redding_gandalf    Taylor Wilcox   \n",
       "\n",
       "       isTopCritic                                         reviewText  \n",
       "0            False  Green slowly cranks up the dread with style an...  \n",
       "1            False  Philip Noyce's direction is elegant and unforc...  \n",
       "2            False  It wouldn't do to say what path Maria ultimate...  \n",
       "3            False  Pig is not exactly the arthouse John Wick that...  \n",
       "4            False  An imaginative no-budget musical of sorts abou...  \n",
       "...            ...                                                ...  \n",
       "55310        False  Ron Howard delivers an unconventional romantic...  \n",
       "55311        False  As an oddball art film that openly invites you...  \n",
       "55312        False  Nicholson wears his devilish grin from his fir...  \n",
       "55313         True  It's hard not be entertained by two dozen of C...  \n",
       "55314         True  Not clever enough for Smith fans, not gross en...  \n",
       "\n",
       "[55315 rows x 4 columns]"
      ]
     },
     "execution_count": 19,
     "metadata": {},
     "output_type": "execute_result"
    }
   ],
   "source": [
    "test_copy"
   ]
  },
  {
   "cell_type": "code",
   "execution_count": 20,
   "id": "df7b041c-da65-491f-ae8c-00080e7a34d2",
   "metadata": {},
   "outputs": [
    {
     "data": {
      "text/plain": [
       "movieid            0\n",
       "reviewerName       0\n",
       "isTopCritic        0\n",
       "reviewText      2510\n",
       "dtype: int64"
      ]
     },
     "execution_count": 20,
     "metadata": {},
     "output_type": "execute_result"
    }
   ],
   "source": [
    "missing_test = test_copy.isna().sum()\n",
    "missing_test"
   ]
  },
  {
   "cell_type": "code",
   "execution_count": 21,
   "id": "c1a6461b-3571-4ad5-94fc-b1e069f367b7",
   "metadata": {},
   "outputs": [
    {
     "name": "stdout",
     "output_type": "stream",
     "text": [
      "Hence we see that the percentage of missing test['reviewText'] data  is: 1.542166898094103\n"
     ]
    }
   ],
   "source": [
    "missing_test_percent = missing_test/len(train)*100\n",
    "\n",
    "print(\"Hence we see that the percentage of missing test['reviewText'] data  is:\",missing_test_percent['reviewText'])"
   ]
  },
  {
   "cell_type": "markdown",
   "id": "0f5d8990-79b1-46ad-a1a4-1b2f98601339",
   "metadata": {},
   "source": [
    "# Summary of Test dataset\n",
    "\n",
    "> The dataset has a shape of **(55315,4)**.\n",
    "\n",
    "> About **2510** entries or **1.542%** of reviewName column has null values."
   ]
  },
  {
   "cell_type": "markdown",
   "id": "dfbfd611-03b7-498a-93b4-77dad749dd83",
   "metadata": {},
   "source": [
    "# Data Pre-Processing"
   ]
  },
  {
   "cell_type": "code",
   "execution_count": 22,
   "id": "109ebf38-3f49-4781-ae2a-8f248cb06aba",
   "metadata": {},
   "outputs": [],
   "source": [
    "#Initially we will encode the sentiment column in train dataset\n",
    "\n",
    "label_encoder = LabelEncoder()\n",
    "train_copy['sentiment'] = label_encoder.fit_transform(train_copy['sentiment'])"
   ]
  },
  {
   "cell_type": "code",
   "execution_count": 23,
   "id": "babc809a-713e-4152-9b39-19d9960a3b6f",
   "metadata": {},
   "outputs": [],
   "source": [
    "train_copy['isFrequentReviewer'] = label_encoder.fit_transform(train_copy['isFrequentReviewer'])"
   ]
  },
  {
   "cell_type": "code",
   "execution_count": 24,
   "id": "9c6b3b95-3a0b-4d73-99b8-82a581806b51",
   "metadata": {},
   "outputs": [
    {
     "data": {
      "text/plain": [
       "movieid               0\n",
       "reviewerName          0\n",
       "isFrequentReviewer    0\n",
       "reviewText            0\n",
       "sentiment             0\n",
       "dtype: int64"
      ]
     },
     "execution_count": 24,
     "metadata": {},
     "output_type": "execute_result"
    }
   ],
   "source": [
    "#Filling in the missing values\n",
    "\n",
    "train_copy['reviewText'].fillna('missing', inplace=True)\n",
    "train_copy.isna().sum()"
   ]
  },
  {
   "cell_type": "code",
   "execution_count": 25,
   "id": "52139647-8387-440a-9ec4-4369bbedc1e5",
   "metadata": {},
   "outputs": [
    {
     "data": {
      "text/plain": [
       "movieid         0\n",
       "reviewerName    0\n",
       "isTopCritic     0\n",
       "reviewText      0\n",
       "dtype: int64"
      ]
     },
     "execution_count": 25,
     "metadata": {},
     "output_type": "execute_result"
    }
   ],
   "source": [
    "# Applying similar techniques for the test dataset\n",
    "\n",
    "test_copy['reviewText'].fillna('missing', inplace=True)\n",
    "test_copy.isna().sum()"
   ]
  },
  {
   "cell_type": "markdown",
   "id": "c2c5cd7b-e308-461e-b9bb-1622ae46c4ab",
   "metadata": {},
   "source": [
    "# Pre-Processing function"
   ]
  },
  {
   "cell_type": "code",
   "execution_count": 26,
   "id": "1284e42c-8152-4af9-bbb4-e1c9af279588",
   "metadata": {},
   "outputs": [],
   "source": [
    "# Function to cleanup the review column to prepare it for modeling\n",
    "def clean_review(review):\n",
    "    # Convert the review to lowercase\n",
    "    review = str(review).lower()\n",
    "    \n",
    "    # Remove URLs\n",
    "    review = re.sub(r'https?://\\S+', '', review)\n",
    "    \n",
    "    # Remove HTML tags\n",
    "    review = re.sub(r'<[^>]*>', '', review)\n",
    "    \n",
    "    # Remove newlines\n",
    "    review = re.sub('\\n', ' ', review)\n",
    "    \n",
    "    # Remove alphanumeric words and single letters\n",
    "    review = re.sub(r'\\b\\w\\b', '', review)\n",
    "    \n",
    "    # Remove punctuation, excluding specific characters\n",
    "    review = re.sub(r'[^\\w\\s!@$%^&*(),.?\":{}|<>]', '', review)\n",
    "    \n",
    "    # Remove numbers and apostrophes\n",
    "    review = re.sub(r'\\b\\d+\\b', '', review)\n",
    "    review = re.sub(r\"'\", '', review)\n",
    "\n",
    "    return review\n",
    "\n",
    "\n",
    "# For train DataFrame\n",
    "train_copy['reviewText'] = train_copy['reviewText'].apply(lambda x: clean_review(x))"
   ]
  },
  {
   "cell_type": "code",
   "execution_count": 27,
   "id": "84c19352-0ff0-456d-97ac-1f1c44f885da",
   "metadata": {},
   "outputs": [],
   "source": [
    "# Define a function to remove stop words from the reviewText column\n",
    "\n",
    "stop_words = [\"0o\",\"0s\",\"3a\",\"3b\",\"3d\",\"6b\",\"6o\",\"a\",\"a1\",\"a2\",\"a3\",\"a4\",\"ab\",\"able\",\"about\",\"above\",\"abst\",\"ac\",\"accordance\",\"according\",\"accordingly\",\"across\",\"act\",\"actually\",\"ad\",\"added\",\"adj\",\"ae\",\"af\",\"affected\",\"affecting\",\"affects\",\"after\",\"afterwards\",\"ag\",\"again\",\"against\",\"ah\",\"ain\",\"ain't\",\"aj\",\"al\",\"all\",\"allow\",\"allows\",\"almost\",\"alone\",\"along\",\"already\",\"also\",\"although\",\"always\",\"am\",\"among\",\"amongst\",\"amoungst\",\"amount\",\"an\",\"and\",\"announce\",\"another\",\"any\",\"anybody\",\"anyhow\",\"anymore\",\"anyone\",\"anything\",\"anyway\",\"anyways\",\"anywhere\",\"ao\",\"ap\",\"apart\",\"apparently\",\"appear\",\"appreciate\",\"appropriate\",\"approximately\",\"ar\",\"are\",\"aren\",\"arent\",\"aren't\",\"arise\",\"around\",\"as\",\"a's\",\"aside\",\"ask\",\"asking\",\"associated\",\"at\",\"au\",\"auth\",\"av\",\"available\",\"aw\",\"away\",\"awfully\",\"ax\",\"ay\",\"az\",\"b\",\"b1\",\"b2\",\"b3\",\"ba\",\"back\",\"bc\",\"bd\",\"be\",\"became\",\"because\",\"become\",\"becomes\",\"becoming\",\"been\",\"before\",\"beforehand\",\"begin\",\"beginning\",\"beginnings\",\"begins\",\"behind\",\"being\",\"believe\",\"below\",\"beside\",\"besides\",\"best\",\"better\",\"between\",\"beyond\",\"bi\",\"bill\",\"biol\",\"bj\",\"bk\",\"bl\",\"bn\",\"both\",\"bottom\",\"bp\",\"br\",\"brief\",\"briefly\",\"bs\",\"bt\",\"bu\",\"but\",\"bx\",\"by\",\"c\",\"c1\",\"c2\",\"c3\",\"ca\",\"call\",\"came\",\"can\",\"cannot\",\"cant\",\"can't\",\"cause\",\"causes\",\"cc\",\"cd\",\"ce\",\"certain\",\"certainly\",\"cf\",\"cg\",\"ch\",\"changes\",\"ci\",\"cit\",\"cj\",\"cl\",\"clearly\",\"cm\",\"c'mon\",\"cn\",\"co\",\"com\",\"come\",\"comes\",\"con\",\"concerning\",\"consequently\",\"consider\",\"considering\",\"contain\",\"containing\",\"contains\",\"corresponding\",\"could\",\"couldn\",\"couldnt\",\"couldn't\",\"course\",\"cp\",\"cq\",\"cr\",\"cry\",\"cs\",\"c's\",\"ct\",\"cu\",\"currently\",\"cv\",\"cx\",\"cy\",\"cz\",\"d\",\"d2\",\"da\",\"date\",\"dc\",\"dd\",\"de\",\"definitely\",\"describe\",\"described\",\"despite\",\"detail\",\"df\",\"di\",\"did\",\"didn\",\"didn't\",\"different\",\"dj\",\"dk\",\"dl\",\"do\",\"does\",\"doesn\",\"doesn't\",\"doing\",\"don\",\"done\",\"don't\",\"down\",\"downwards\",\"dp\",\"dr\",\"ds\",\"dt\",\"du\",\"due\",\"during\",\"dx\",\"dy\",\"e\",\"e2\",\"e3\",\"ea\",\"each\",\"ec\",\"ed\",\"edu\",\"ee\",\"ef\",\"effect\",\"eg\",\"ei\",\"eight\",\"eighty\",\"either\",\"ej\",\"el\",\"eleven\",\"else\",\"elsewhere\",\"em\",\"empty\",\"en\",\"end\",\"ending\",\"enough\",\"entirely\",\"eo\",\"ep\",\"eq\",\"er\",\"es\",\"especially\",\"est\",\"et\",\"et-al\",\"etc\",\"eu\",\"ev\",\"even\",\"ever\",\"every\",\"everybody\",\"everyone\",\"everything\",\"everywhere\",\"ex\",\"exactly\",\"example\",\"except\",\"ey\",\"f\",\"f2\",\"fa\",\"far\",\"fc\",\"few\",\"ff\",\"fi\",\"fifteen\",\"fifth\",\"fify\",\"fill\",\"find\",\"fire\",\"first\",\"five\",\"fix\",\"fj\",\"fl\",\"fn\",\"fo\",\"followed\",\"following\",\"follows\",\"for\",\"former\",\"formerly\",\"forth\",\"forty\",\"found\",\"four\",\"fr\",\"from\",\"front\",\"fs\",\"ft\",\"fu\",\"full\",\"further\",\"furthermore\",\"fy\",\"g\",\"ga\",\"gave\",\"ge\",\"get\",\"gets\",\"getting\",\"gi\",\"give\",\"given\",\"gives\",\"giving\",\"gj\",\"gl\",\"go\",\"goes\",\"going\",\"gone\",\"got\",\"gotten\",\"gr\",\"greetings\",\"gs\",\"gy\",\"h\",\"h2\",\"h3\",\"had\",\"hadn\",\"hadn't\",\"happens\",\"hardly\",\"has\",\"hasn\",\"hasnt\",\"hasn't\",\"have\",\"haven\",\"haven't\",\"having\",\"he\",\"hed\",\"he'd\",\"he'll\",\"hello\",\"help\",\"hence\",\"her\",\"here\",\"hereafter\",\"hereby\",\"herein\",\"heres\",\"here's\",\"hereupon\",\"hers\",\"herself\",\"hes\",\"he's\",\"hh\",\"hi\",\"hid\",\"him\",\"himself\",\"his\",\"hither\",\"hj\",\"ho\",\"home\",\"hopefully\",\"how\",\"howbeit\",\"however\",\"how's\",\"hr\",\"hs\",\"http\",\"hu\",\"hundred\",\"hy\",\"i\",\"i2\",\"i3\",\"i4\",\"i6\",\"i7\",\"i8\",\"ia\",\"ib\",\"ibid\",\"ic\",\"id\",\"i'd\",\"ie\",\"if\",\"ig\",\"ignored\",\"ih\",\"ii\",\"ij\",\"il\",\"i'll\",\"im\",\"i'm\",\"immediate\",\"immediately\",\"importance\",\"important\",\"in\",\"inasmuch\",\"inc\",\"indeed\",\"index\",\"indicate\",\"indicated\",\"indicates\",\"information\",\"inner\",\"insofar\",\"instead\",\"interest\",\"into\",\"invention\",\"inward\",\"io\",\"ip\",\"iq\",\"ir\",\"is\",\"isn\",\"isn't\",\"it\",\"itd\",\"it'd\",\"it'll\",\"its\",\"it's\",\"itself\",\"iv\",\"i've\",\"ix\",\"iy\",\"iz\",\"j\",\"jj\",\"jr\",\"js\",\"jt\",\"ju\",\"just\",\"k\",\"ke\",\"keep\",\"keeps\",\"kept\",\"kg\",\"kj\",\"km\",\"know\",\"known\",\"knows\",\"ko\",\"l\",\"l2\",\"la\",\"largely\",\"last\",\"lately\",\"later\",\"latter\",\"latterly\",\"lb\",\"lc\",\"le\",\"least\",\"les\",\"less\",\"lest\",\"let\",\"lets\",\"let's\",\"lf\",\"like\",\"liked\",\"likely\",\"line\",\"little\",\"lj\",\"ll\",\"ll\",\"ln\",\"lo\",\"look\",\"looking\",\"looks\",\"los\",\"lr\",\"ls\",\"lt\",\"ltd\",\"m\",\"m2\",\"ma\",\"made\",\"mainly\",\"make\",\"makes\",\"many\",\"may\",\"maybe\",\"me\",\"mean\",\"means\",\"meantime\",\"meanwhile\",\"merely\",\"mg\",\"might\",\"mightn\",\"mightn't\",\"mill\",\"million\",\"mine\",\"miss\",\"ml\",\"mn\",\"mo\",\"more\",\"moreover\",\"most\",\"mostly\",\"move\",\"mr\",\"mrs\",\"ms\",\"mt\",\"mu\",\"much\",\"mug\",\"must\",\"mustn\",\"mustn't\",\"my\",\"myself\",\"n\",\"n2\",\"na\",\"name\",\"namely\",\"nay\",\"nc\",\"nd\",\"ne\",\"near\",\"nearly\",\"necessarily\",\"necessary\",\"need\",\"needn\",\"needn't\",\"needs\",\"neither\",\"never\",\"nevertheless\",\"new\",\"next\",\"ng\",\"ni\",\"nine\",\"ninety\",\"nj\",\"nl\",\"nn\",\"no\",\"nobody\",\"non\",\"none\",\"nonetheless\",\"noone\",\"nor\",\"normally\",\"nos\",\"not\",\"noted\",\"nothing\",\"novel\",\"now\",\"nowhere\",\"nr\",\"ns\",\"nt\",\"ny\",\"o\",\"oa\",\"ob\",\"obtain\",\"obtained\",\"obviously\",\"oc\",\"od\",\"of\",\"off\",\"often\",\"og\",\"oh\",\"oi\",\"oj\",\"ok\",\"okay\",\"ol\",\"old\",\"om\",\"omitted\",\"on\",\"once\",\"one\",\"ones\",\"only\",\"onto\",\"oo\",\"op\",\"oq\",\"or\",\"ord\",\"os\",\"ot\",\"other\",\"others\",\"otherwise\",\"ou\",\"ought\",\"our\",\"ours\",\"ourselves\",\"out\",\"outside\",\"over\",\"overall\",\"ow\",\"owing\",\"own\",\"ox\",\"oz\",\"p\",\"p1\",\"p2\",\"p3\",\"page\",\"pagecount\",\"pages\",\"par\",\"part\",\"particular\",\"particularly\",\"pas\",\"past\",\"pc\",\"pd\",\"pe\",\"per\",\"perhaps\",\"pf\",\"ph\",\"pi\",\"pj\",\"pk\",\"pl\",\"placed\",\"please\",\"plus\",\"pm\",\"pn\",\"po\",\"poorly\",\"possible\",\"possibly\",\"potentially\",\"pp\",\"pq\",\"pr\",\"predominantly\",\"present\",\"presumably\",\"previously\",\"primarily\",\"probably\",\"promptly\",\"proud\",\"provides\",\"ps\",\"pt\",\"pu\",\"put\",\"py\",\"q\",\"qj\",\"qu\",\"que\",\"quickly\",\"quite\",\"qv\",\"r\",\"r2\",\"ra\",\"ran\",\"rather\",\"rc\",\"rd\",\"re\",\"readily\",\"really\",\"reasonably\",\"recent\",\"recently\",\"ref\",\"refs\",\"regarding\",\"regardless\",\"regards\",\"related\",\"relatively\",\"research\",\"research-articl\",\"respectively\",\"resulted\",\"resulting\",\"results\",\"rf\",\"rh\",\"ri\",\"right\",\"rj\",\"rl\",\"rm\",\"rn\",\"ro\",\"rq\",\"rr\",\"rs\",\"rt\",\"ru\",\"run\",\"rv\",\"ry\",\"s\",\"s2\",\"sa\",\"said\",\"same\",\"saw\",\"say\",\"saying\",\"says\",\"sc\",\"sd\",\"se\",\"sec\",\"second\",\"secondly\",\"section\",\"see\",\"seeing\",\"seem\",\"seemed\",\"seeming\",\"seems\",\"seen\",\"self\",\"selves\",\"sensible\",\"sent\",\"serious\",\"seriously\",\"seven\",\"several\",\"sf\",\"shall\",\"shan\",\"shan't\",\"she\",\"shed\",\"she'd\",\"she'll\",\"shes\",\"she's\",\"should\",\"shouldn\",\"shouldn't\",\"should've\",\"show\",\"showed\",\"shown\",\"showns\",\"shows\",\"si\",\"side\",\"significant\",\"significantly\",\"similar\",\"similarly\",\"since\",\"sincere\",\"six\",\"sixty\",\"sj\",\"sl\",\"slightly\",\"sm\",\"sn\",\"so\",\"some\",\"somebody\",\"somehow\",\"someone\",\"somethan\",\"something\",\"sometime\",\"sometimes\",\"somewhat\",\"somewhere\",\"soon\",\"sorry\",\"sp\",\"specifically\",\"specified\",\"specify\",\"specifying\",\"sq\",\"sr\",\"ss\",\"st\",\"still\",\"stop\",\"strongly\",\"sub\",\"substantially\",\"successfully\",\"such\",\"sufficiently\",\"suggest\",\"sup\",\"sure\",\"sy\",\"system\",\"sz\",\"t\",\"t1\",\"t2\",\"t3\",\"take\",\"taken\",\"taking\",\"tb\",\"tc\",\"td\",\"te\",\"tell\",\"ten\",\"tends\",\"tf\",\"th\",\"than\",\"thank\",\"thanks\",\"thanx\",\"that\",\"that'll\",\"thats\",\"that's\",\"that've\",\"the\",\"their\",\"theirs\",\"them\",\"themselves\",\"then\",\"thence\",\"there\",\"thereafter\",\"thereby\",\"thered\",\"therefore\",\"therein\",\"there'll\",\"thereof\",\"therere\",\"theres\",\"there's\",\"thereto\",\"thereupon\",\"there've\",\"these\",\"they\",\"theyd\",\"they'd\",\"they'll\",\"theyre\",\"they're\",\"they've\",\"thickv\",\"thin\",\"think\",\"third\",\"this\",\"thorough\",\"thoroughly\",\"those\",\"thou\",\"though\",\"thoughh\",\"thousand\",\"three\",\"throug\",\"through\",\"throughout\",\"thru\",\"thus\",\"ti\",\"til\",\"tip\",\"tj\",\"tl\",\"tm\",\"tn\",\"to\",\"together\",\"too\",\"took\",\"top\",\"toward\",\"towards\",\"tp\",\"tq\",\"tr\",\"tried\",\"tries\",\"truly\",\"try\",\"trying\",\"ts\",\"t's\",\"tt\",\"tv\",\"twelve\",\"twenty\",\"twice\",\"two\",\"tx\",\"u\",\"u201d\",\"ue\",\"ui\",\"uj\",\"uk\",\"um\",\"un\",\"under\",\"unfortunately\",\"unless\",\"unlike\",\"unlikely\",\"until\",\"unto\",\"uo\",\"up\",\"upon\",\"ups\",\"ur\",\"us\",\"use\",\"used\",\"useful\",\"usefully\",\"usefulness\",\"uses\",\"using\",\"usually\",\"ut\",\"v\",\"va\",\"value\",\"various\",\"vd\",\"ve\",\"ve\",\"very\",\"via\",\"viz\",\"vj\",\"vo\",\"vol\",\"vols\",\"volumtype\",\"vq\",\"vs\",\"vt\",\"vu\",\"w\",\"wa\",\"want\",\"wants\",\"was\",\"wasn\",\"wasnt\",\"wasn't\",\"way\",\"we\",\"wed\",\"we'd\",\"welcome\",\"well\",\"we'll\",\"well-b\",\"went\",\"were\",\"we're\",\"weren\",\"werent\",\"weren't\",\"we've\",\"what\",\"whatever\",\"what'll\",\"whats\",\"what's\",\"when\",\"whence\",\"whenever\",\"when's\",\"where\",\"whereafter\",\"whereas\",\"whereby\",\"wherein\",\"wheres\",\"where's\",\"whereupon\",\"wherever\",\"whether\",\"which\",\"while\",\"whim\",\"whither\",\"who\",\"whod\",\"whoever\",\"whole\",\"who'll\",\"whom\",\"whomever\",\"whos\",\"who's\",\"whose\",\"why\",\"why's\",\"wi\",\"widely\",\"will\",\"willing\",\"wish\",\"with\",\"within\",\"without\",\"wo\",\"won\",\"wonder\",\"wont\",\"won't\",\"words\",\"world\",\"would\",\"wouldn\",\"wouldnt\",\"wouldn't\",\"www\",\"x\",\"x1\",\"x2\",\"x3\",\"xf\",\"xi\",\"xj\",\"xk\",\"xl\",\"xn\",\"xo\",\"xs\",\"xt\",\"xv\",\"xx\",\"y\",\"y2\",\"yes\",\"yet\",\"yj\",\"yl\",\"you\",\"youd\",\"you'd\",\"you'll\",\"your\",\"youre\",\"you're\",\"yours\",\"yourself\",\"yourselves\",\"you've\",\"yr\",\"ys\",\"yt\",\"z\",\"zero\",\"zi\",\"zz\"]\n",
    "\n",
    "\n",
    "# Define the function to remove stop words from a single review\n",
    "def remove_stop_words_from_review(review, stop_words):\n",
    "    words = review.split()  # Tokenize the review into words\n",
    "    filtered_words = [word for word in words if word.lower() not in stop_words]  # Remove stop words\n",
    "    processed_review = ' '.join(filtered_words)  # Reconstruct the review without stop words\n",
    "    return processed_review"
   ]
  },
  {
   "cell_type": "code",
   "execution_count": 28,
   "id": "ac5dff1d-6379-4c85-a617-dc8680efb3ee",
   "metadata": {},
   "outputs": [
    {
     "data": {
      "text/plain": [
       "movieid               object\n",
       "reviewerName          object\n",
       "isFrequentReviewer     int64\n",
       "reviewText            object\n",
       "sentiment              int64\n",
       "dtype: object"
      ]
     },
     "execution_count": 28,
     "metadata": {},
     "output_type": "execute_result"
    }
   ],
   "source": [
    "train_copy.dtypes"
   ]
  },
  {
   "cell_type": "code",
   "execution_count": 29,
   "id": "e7008478-d569-4315-ab85-8a8bc3278fd6",
   "metadata": {},
   "outputs": [],
   "source": [
    "train_copy['reviewText'] = train_copy['reviewText'].apply(lambda x: remove_stop_words_from_review(str(x), stop_words))"
   ]
  },
  {
   "cell_type": "code",
   "execution_count": 30,
   "id": "b8fb1ecd-8f23-4552-b0c1-d43a346c4b3c",
   "metadata": {},
   "outputs": [
    {
     "data": {
      "text/html": [
       "<div>\n",
       "<style scoped>\n",
       "    .dataframe tbody tr th:only-of-type {\n",
       "        vertical-align: middle;\n",
       "    }\n",
       "\n",
       "    .dataframe tbody tr th {\n",
       "        vertical-align: top;\n",
       "    }\n",
       "\n",
       "    .dataframe thead th {\n",
       "        text-align: right;\n",
       "    }\n",
       "</style>\n",
       "<table border=\"1\" class=\"dataframe\">\n",
       "  <thead>\n",
       "    <tr style=\"text-align: right;\">\n",
       "      <th></th>\n",
       "      <th>movieid</th>\n",
       "      <th>reviewerName</th>\n",
       "      <th>isFrequentReviewer</th>\n",
       "      <th>reviewText</th>\n",
       "      <th>sentiment</th>\n",
       "    </tr>\n",
       "  </thead>\n",
       "  <tbody>\n",
       "    <tr>\n",
       "      <th>0</th>\n",
       "      <td>marvelous_pirate</td>\n",
       "      <td>Benjamin Henry</td>\n",
       "      <td>0</td>\n",
       "      <td>henry selick movie coraline. stopmotion master...</td>\n",
       "      <td>1</td>\n",
       "    </tr>\n",
       "    <tr>\n",
       "      <th>1</th>\n",
       "      <td>tony_montana_frodo_baggins_v_rocky_balboa</td>\n",
       "      <td>Felicia Lopez</td>\n",
       "      <td>0</td>\n",
       "      <td>cast reads vogue oscar party guest list, valen...</td>\n",
       "      <td>0</td>\n",
       "    </tr>\n",
       "    <tr>\n",
       "      <th>2</th>\n",
       "      <td>darth_vader_katniss_everdeen_sorcerer_donnie_d...</td>\n",
       "      <td>Mr. Charles Burgess</td>\n",
       "      <td>1</td>\n",
       "      <td>creed another, superior rocky sequel. wins poi...</td>\n",
       "      <td>1</td>\n",
       "    </tr>\n",
       "    <tr>\n",
       "      <th>3</th>\n",
       "      <td>lara_croft_glimmer</td>\n",
       "      <td>Ryan Barrett</td>\n",
       "      <td>0</td>\n",
       "      <td>thinking, limitless (bradley cooper). cells mu...</td>\n",
       "      <td>1</td>\n",
       "    </tr>\n",
       "    <tr>\n",
       "      <th>4</th>\n",
       "      <td>jason_bourne_surreal_the_terminator_indiana_jones</td>\n",
       "      <td>Alexander Glover</td>\n",
       "      <td>0</td>\n",
       "      <td>director fernando meirelles tells story urgenc...</td>\n",
       "      <td>1</td>\n",
       "    </tr>\n",
       "    <tr>\n",
       "      <th>...</th>\n",
       "      <td>...</td>\n",
       "      <td>...</td>\n",
       "      <td>...</td>\n",
       "      <td>...</td>\n",
       "      <td>...</td>\n",
       "    </tr>\n",
       "    <tr>\n",
       "      <th>162753</th>\n",
       "      <td>the_joker_ethereal_captain_jack_sparrow_fantastic</td>\n",
       "      <td>Danny Mueller</td>\n",
       "      <td>0</td>\n",
       "      <td>topnotch thriller genuine surprises great, aff...</td>\n",
       "      <td>1</td>\n",
       "    </tr>\n",
       "    <tr>\n",
       "      <th>162754</th>\n",
       "      <td>e.t._hannibal_lecter_vito_corleone_katniss_eve...</td>\n",
       "      <td>Jennifer Clayton</td>\n",
       "      <td>1</td>\n",
       "      <td>people derek zoolander funny likable endearing...</td>\n",
       "      <td>0</td>\n",
       "    </tr>\n",
       "    <tr>\n",
       "      <th>162755</th>\n",
       "      <td>infinite_enigma_luke_skywalker</td>\n",
       "      <td>Bryan Wilson</td>\n",
       "      <td>0</td>\n",
       "      <td>fun, gentle comedy focuses themes families eas...</td>\n",
       "      <td>1</td>\n",
       "    </tr>\n",
       "    <tr>\n",
       "      <th>162756</th>\n",
       "      <td>emerald_oracle_iron_man_wolverine</td>\n",
       "      <td>Erik Parker</td>\n",
       "      <td>0</td>\n",
       "      <td>film rescued strong act, torture.</td>\n",
       "      <td>0</td>\n",
       "    </tr>\n",
       "    <tr>\n",
       "      <th>162757</th>\n",
       "      <td>james_t._kirk_phenomenal_zephyr_chronicles</td>\n",
       "      <td>Howard Evans</td>\n",
       "      <td>0</td>\n",
       "      <td>peerless exercise stimulus response.</td>\n",
       "      <td>1</td>\n",
       "    </tr>\n",
       "  </tbody>\n",
       "</table>\n",
       "<p>162758 rows × 5 columns</p>\n",
       "</div>"
      ],
      "text/plain": [
       "                                                  movieid  \\\n",
       "0                                        marvelous_pirate   \n",
       "1               tony_montana_frodo_baggins_v_rocky_balboa   \n",
       "2       darth_vader_katniss_everdeen_sorcerer_donnie_d...   \n",
       "3                                      lara_croft_glimmer   \n",
       "4       jason_bourne_surreal_the_terminator_indiana_jones   \n",
       "...                                                   ...   \n",
       "162753  the_joker_ethereal_captain_jack_sparrow_fantastic   \n",
       "162754  e.t._hannibal_lecter_vito_corleone_katniss_eve...   \n",
       "162755                     infinite_enigma_luke_skywalker   \n",
       "162756                  emerald_oracle_iron_man_wolverine   \n",
       "162757         james_t._kirk_phenomenal_zephyr_chronicles   \n",
       "\n",
       "               reviewerName  isFrequentReviewer  \\\n",
       "0            Benjamin Henry                   0   \n",
       "1             Felicia Lopez                   0   \n",
       "2       Mr. Charles Burgess                   1   \n",
       "3              Ryan Barrett                   0   \n",
       "4          Alexander Glover                   0   \n",
       "...                     ...                 ...   \n",
       "162753        Danny Mueller                   0   \n",
       "162754     Jennifer Clayton                   1   \n",
       "162755         Bryan Wilson                   0   \n",
       "162756          Erik Parker                   0   \n",
       "162757         Howard Evans                   0   \n",
       "\n",
       "                                               reviewText  sentiment  \n",
       "0       henry selick movie coraline. stopmotion master...          1  \n",
       "1       cast reads vogue oscar party guest list, valen...          0  \n",
       "2       creed another, superior rocky sequel. wins poi...          1  \n",
       "3       thinking, limitless (bradley cooper). cells mu...          1  \n",
       "4       director fernando meirelles tells story urgenc...          1  \n",
       "...                                                   ...        ...  \n",
       "162753  topnotch thriller genuine surprises great, aff...          1  \n",
       "162754  people derek zoolander funny likable endearing...          0  \n",
       "162755  fun, gentle comedy focuses themes families eas...          1  \n",
       "162756                  film rescued strong act, torture.          0  \n",
       "162757               peerless exercise stimulus response.          1  \n",
       "\n",
       "[162758 rows x 5 columns]"
      ]
     },
     "execution_count": 30,
     "metadata": {},
     "output_type": "execute_result"
    }
   ],
   "source": [
    "train_copy"
   ]
  },
  {
   "cell_type": "code",
   "execution_count": 31,
   "id": "dd3f7f4a-5328-42c7-9028-a38692056d4f",
   "metadata": {},
   "outputs": [
    {
     "data": {
      "text/plain": [
       "(2929, 5)"
      ]
     },
     "execution_count": 31,
     "metadata": {},
     "output_type": "execute_result"
    }
   ],
   "source": [
    "#Let us look at the duplicates present in the train data\n",
    "\n",
    "train_duplicate = train_copy[train_copy.duplicated(['movieid','reviewerName'],keep=False)]\n",
    "\n",
    "train_duplicate.shape"
   ]
  },
  {
   "cell_type": "code",
   "execution_count": 32,
   "id": "9296924e-e609-4ccb-b087-40864459663c",
   "metadata": {},
   "outputs": [
    {
     "data": {
      "text/html": [
       "<div>\n",
       "<style scoped>\n",
       "    .dataframe tbody tr th:only-of-type {\n",
       "        vertical-align: middle;\n",
       "    }\n",
       "\n",
       "    .dataframe tbody tr th {\n",
       "        vertical-align: top;\n",
       "    }\n",
       "\n",
       "    .dataframe thead th {\n",
       "        text-align: right;\n",
       "    }\n",
       "</style>\n",
       "<table border=\"1\" class=\"dataframe\">\n",
       "  <thead>\n",
       "    <tr style=\"text-align: right;\">\n",
       "      <th></th>\n",
       "      <th>reviewerName</th>\n",
       "      <th>isFrequentReviewer</th>\n",
       "      <th>reviewText</th>\n",
       "      <th>sentiment</th>\n",
       "    </tr>\n",
       "    <tr>\n",
       "      <th>movieid</th>\n",
       "      <th></th>\n",
       "      <th></th>\n",
       "      <th></th>\n",
       "      <th></th>\n",
       "    </tr>\n",
       "  </thead>\n",
       "  <tbody>\n",
       "    <tr>\n",
       "      <th>adventure_wondrous_dream_mystic</th>\n",
       "      <td>2</td>\n",
       "      <td>2</td>\n",
       "      <td>2</td>\n",
       "      <td>2</td>\n",
       "    </tr>\n",
       "    <tr>\n",
       "      <th>anakin_skywalker_hiccup_darth_vader_intrigue</th>\n",
       "      <td>2</td>\n",
       "      <td>2</td>\n",
       "      <td>2</td>\n",
       "      <td>2</td>\n",
       "    </tr>\n",
       "    <tr>\n",
       "      <th>annie_hall_black_widow_phenomenal</th>\n",
       "      <td>2</td>\n",
       "      <td>2</td>\n",
       "      <td>2</td>\n",
       "      <td>2</td>\n",
       "    </tr>\n",
       "    <tr>\n",
       "      <th>annie_hall_golden_jack_sparrow</th>\n",
       "      <td>25</td>\n",
       "      <td>25</td>\n",
       "      <td>25</td>\n",
       "      <td>25</td>\n",
       "    </tr>\n",
       "    <tr>\n",
       "      <th>annie_hall_han_solo_wondrous_captain_jack_sparrow</th>\n",
       "      <td>2</td>\n",
       "      <td>2</td>\n",
       "      <td>2</td>\n",
       "      <td>2</td>\n",
       "    </tr>\n",
       "    <tr>\n",
       "      <th>...</th>\n",
       "      <td>...</td>\n",
       "      <td>...</td>\n",
       "      <td>...</td>\n",
       "      <td>...</td>\n",
       "    </tr>\n",
       "    <tr>\n",
       "      <th>wolverine_trinity_harry_potter</th>\n",
       "      <td>2</td>\n",
       "      <td>2</td>\n",
       "      <td>2</td>\n",
       "      <td>2</td>\n",
       "    </tr>\n",
       "    <tr>\n",
       "      <th>wonder_enigma_scarlett_o'hara</th>\n",
       "      <td>2</td>\n",
       "      <td>2</td>\n",
       "      <td>2</td>\n",
       "      <td>2</td>\n",
       "    </tr>\n",
       "    <tr>\n",
       "      <th>wonder_sherlock_holmes_gandalf</th>\n",
       "      <td>2</td>\n",
       "      <td>2</td>\n",
       "      <td>2</td>\n",
       "      <td>2</td>\n",
       "    </tr>\n",
       "    <tr>\n",
       "      <th>wonder_woman_tyler_durden</th>\n",
       "      <td>2</td>\n",
       "      <td>2</td>\n",
       "      <td>2</td>\n",
       "      <td>2</td>\n",
       "    </tr>\n",
       "    <tr>\n",
       "      <th>zephyr_luke_skywalker_vito_corleone_katniss_everdeen</th>\n",
       "      <td>2</td>\n",
       "      <td>2</td>\n",
       "      <td>2</td>\n",
       "      <td>2</td>\n",
       "    </tr>\n",
       "  </tbody>\n",
       "</table>\n",
       "<p>411 rows × 4 columns</p>\n",
       "</div>"
      ],
      "text/plain": [
       "                                                    reviewerName  \\\n",
       "movieid                                                            \n",
       "adventure_wondrous_dream_mystic                                2   \n",
       "anakin_skywalker_hiccup_darth_vader_intrigue                   2   \n",
       "annie_hall_black_widow_phenomenal                              2   \n",
       "annie_hall_golden_jack_sparrow                                25   \n",
       "annie_hall_han_solo_wondrous_captain_jack_sparrow              2   \n",
       "...                                                          ...   \n",
       "wolverine_trinity_harry_potter                                 2   \n",
       "wonder_enigma_scarlett_o'hara                                  2   \n",
       "wonder_sherlock_holmes_gandalf                                 2   \n",
       "wonder_woman_tyler_durden                                      2   \n",
       "zephyr_luke_skywalker_vito_corleone_katniss_eve...             2   \n",
       "\n",
       "                                                    isFrequentReviewer  \\\n",
       "movieid                                                                  \n",
       "adventure_wondrous_dream_mystic                                      2   \n",
       "anakin_skywalker_hiccup_darth_vader_intrigue                         2   \n",
       "annie_hall_black_widow_phenomenal                                    2   \n",
       "annie_hall_golden_jack_sparrow                                      25   \n",
       "annie_hall_han_solo_wondrous_captain_jack_sparrow                    2   \n",
       "...                                                                ...   \n",
       "wolverine_trinity_harry_potter                                       2   \n",
       "wonder_enigma_scarlett_o'hara                                        2   \n",
       "wonder_sherlock_holmes_gandalf                                       2   \n",
       "wonder_woman_tyler_durden                                            2   \n",
       "zephyr_luke_skywalker_vito_corleone_katniss_eve...                   2   \n",
       "\n",
       "                                                    reviewText  sentiment  \n",
       "movieid                                                                    \n",
       "adventure_wondrous_dream_mystic                              2          2  \n",
       "anakin_skywalker_hiccup_darth_vader_intrigue                 2          2  \n",
       "annie_hall_black_widow_phenomenal                            2          2  \n",
       "annie_hall_golden_jack_sparrow                              25         25  \n",
       "annie_hall_han_solo_wondrous_captain_jack_sparrow            2          2  \n",
       "...                                                        ...        ...  \n",
       "wolverine_trinity_harry_potter                               2          2  \n",
       "wonder_enigma_scarlett_o'hara                                2          2  \n",
       "wonder_sherlock_holmes_gandalf                               2          2  \n",
       "wonder_woman_tyler_durden                                    2          2  \n",
       "zephyr_luke_skywalker_vito_corleone_katniss_eve...           2          2  \n",
       "\n",
       "[411 rows x 4 columns]"
      ]
     },
     "execution_count": 32,
     "metadata": {},
     "output_type": "execute_result"
    }
   ],
   "source": [
    "#Grouping the duplicates together\n",
    "\n",
    "train_duplicate.groupby(['movieid']).count()"
   ]
  },
  {
   "cell_type": "code",
   "execution_count": 33,
   "id": "5bae9d0d-7941-45cc-a159-a4210d3ced7d",
   "metadata": {},
   "outputs": [
    {
     "data": {
      "text/plain": [
       "((1980, 5), (949, 5))"
      ]
     },
     "execution_count": 33,
     "metadata": {},
     "output_type": "execute_result"
    }
   ],
   "source": [
    "# Checking for the shapes of the sentiments of the duplicates\n",
    "\n",
    "train_duplicate[train_duplicate.sentiment == 1].shape, train_duplicate[train_duplicate.sentiment == 0].shape"
   ]
  },
  {
   "cell_type": "code",
   "execution_count": 34,
   "id": "5f1f3e6b-45eb-406b-a1a1-76e368aa96ec",
   "metadata": {},
   "outputs": [],
   "source": [
    "## Let us clean up the test data now\n",
    "\n",
    "test_copy['reviewText'] = test_copy['reviewText'].apply(lambda x: clean_review(x))\n",
    "test_copy['reviewText'] = test_copy['reviewText'].apply(lambda x: remove_stop_words_from_review(str(x), stop_words))"
   ]
  },
  {
   "cell_type": "code",
   "execution_count": 35,
   "id": "fa5bc5bb-2878-4e3e-803e-5e547bbcfada",
   "metadata": {},
   "outputs": [
    {
     "data": {
      "text/plain": [
       "isTopCritic\n",
       "False    38428\n",
       "True     16887\n",
       "Name: count, dtype: int64"
      ]
     },
     "execution_count": 35,
     "metadata": {},
     "output_type": "execute_result"
    }
   ],
   "source": [
    "test_copy['isTopCritic'].value_counts()"
   ]
  },
  {
   "cell_type": "code",
   "execution_count": 36,
   "id": "d665ca3b-8702-4af6-bada-218c204a2b62",
   "metadata": {},
   "outputs": [],
   "source": [
    "#Encoding the isTopCritic column in test data\n",
    "\n",
    "test_copy['isTopCritic'] = label_encoder.fit_transform(test_copy['isTopCritic'])"
   ]
  },
  {
   "cell_type": "markdown",
   "id": "d246af1d-5ea6-4435-b1bc-e7c31b20199c",
   "metadata": {},
   "source": [
    "## Cleaning Movies dataset"
   ]
  },
  {
   "cell_type": "code",
   "execution_count": 37,
   "id": "f72cc928-728f-478d-a4fb-2016124dd1c4",
   "metadata": {},
   "outputs": [
    {
     "data": {
      "text/html": [
       "<div>\n",
       "<style scoped>\n",
       "    .dataframe tbody tr th:only-of-type {\n",
       "        vertical-align: middle;\n",
       "    }\n",
       "\n",
       "    .dataframe tbody tr th {\n",
       "        vertical-align: top;\n",
       "    }\n",
       "\n",
       "    .dataframe thead th {\n",
       "        text-align: right;\n",
       "    }\n",
       "</style>\n",
       "<table border=\"1\" class=\"dataframe\">\n",
       "  <thead>\n",
       "    <tr style=\"text-align: right;\">\n",
       "      <th></th>\n",
       "      <th>movieid</th>\n",
       "      <th>title</th>\n",
       "      <th>audienceScore</th>\n",
       "      <th>releaseDateStreaming</th>\n",
       "      <th>runtimeMinutes</th>\n",
       "      <th>genre</th>\n",
       "      <th>originalLanguage</th>\n",
       "      <th>director</th>\n",
       "    </tr>\n",
       "  </thead>\n",
       "  <tbody>\n",
       "    <tr>\n",
       "      <th>0</th>\n",
       "      <td>han_solo_heroic_myth_wonder_woman</td>\n",
       "      <td>Han Solo Heroic Myth Wonder Woman</td>\n",
       "      <td>50.0</td>\n",
       "      <td>2018-08-25</td>\n",
       "      <td>75.0</td>\n",
       "      <td>Comedy, Horror, Sci-fi</td>\n",
       "      <td>English</td>\n",
       "      <td>Claude Nicolet</td>\n",
       "    </tr>\n",
       "    <tr>\n",
       "      <th>1</th>\n",
       "      <td>voyage_tyler_durden_han_solo_stardust</td>\n",
       "      <td>Voyage Tyler Durden Han Solo Stardust</td>\n",
       "      <td>NaN</td>\n",
       "      <td>2020-02-11</td>\n",
       "      <td>114.0</td>\n",
       "      <td>Drama</td>\n",
       "      <td>English</td>\n",
       "      <td>Nathan Haack</td>\n",
       "    </tr>\n",
       "    <tr>\n",
       "      <th>2</th>\n",
       "      <td>norman_bates_ferris_bueller_hermione_granger_v...</td>\n",
       "      <td>Norman Bates Ferris Bueller Hermione Granger V...</td>\n",
       "      <td>43.0</td>\n",
       "      <td>NaN</td>\n",
       "      <td>120.0</td>\n",
       "      <td>Drama</td>\n",
       "      <td>Korean</td>\n",
       "      <td>Theresa Smith</td>\n",
       "    </tr>\n",
       "    <tr>\n",
       "      <th>3</th>\n",
       "      <td>elegant_hermione_granger</td>\n",
       "      <td>Elegant Hermione Granger</td>\n",
       "      <td>60.0</td>\n",
       "      <td>2020-10-23</td>\n",
       "      <td>90.0</td>\n",
       "      <td>Action, Mystery &amp; thriller</td>\n",
       "      <td>English</td>\n",
       "      <td>Donald Lewis</td>\n",
       "    </tr>\n",
       "    <tr>\n",
       "      <th>4</th>\n",
       "      <td>adventure_rocky_balboa</td>\n",
       "      <td>Adventure Rocky Balboa</td>\n",
       "      <td>70.0</td>\n",
       "      <td>2017-03-27</td>\n",
       "      <td>80.0</td>\n",
       "      <td>Fantasy, Adventure, Animation</td>\n",
       "      <td>English</td>\n",
       "      <td>Howard Simms</td>\n",
       "    </tr>\n",
       "  </tbody>\n",
       "</table>\n",
       "</div>"
      ],
      "text/plain": [
       "                                             movieid  \\\n",
       "0                  han_solo_heroic_myth_wonder_woman   \n",
       "1              voyage_tyler_durden_han_solo_stardust   \n",
       "2  norman_bates_ferris_bueller_hermione_granger_v...   \n",
       "3                           elegant_hermione_granger   \n",
       "4                             adventure_rocky_balboa   \n",
       "\n",
       "                                               title  audienceScore  \\\n",
       "0                  Han Solo Heroic Myth Wonder Woman           50.0   \n",
       "1              Voyage Tyler Durden Han Solo Stardust            NaN   \n",
       "2  Norman Bates Ferris Bueller Hermione Granger V...           43.0   \n",
       "3                           Elegant Hermione Granger           60.0   \n",
       "4                             Adventure Rocky Balboa           70.0   \n",
       "\n",
       "  releaseDateStreaming  runtimeMinutes                          genre  \\\n",
       "0           2018-08-25            75.0         Comedy, Horror, Sci-fi   \n",
       "1           2020-02-11           114.0                          Drama   \n",
       "2                  NaN           120.0                          Drama   \n",
       "3           2020-10-23            90.0     Action, Mystery & thriller   \n",
       "4           2017-03-27            80.0  Fantasy, Adventure, Animation   \n",
       "\n",
       "  originalLanguage        director  \n",
       "0          English  Claude Nicolet  \n",
       "1          English    Nathan Haack  \n",
       "2           Korean   Theresa Smith  \n",
       "3          English    Donald Lewis  \n",
       "4          English    Howard Simms  "
      ]
     },
     "execution_count": 37,
     "metadata": {},
     "output_type": "execute_result"
    }
   ],
   "source": [
    "drop_col = ['rating','ratingContents','releaseDateTheaters','boxOffice','distributor','soundType']\n",
    "drop_movie = movie_copy.drop(columns = drop_col)\n",
    "drop_movie.head()"
   ]
  },
  {
   "cell_type": "code",
   "execution_count": 38,
   "id": "651d1d4c-d93a-4570-984d-1db5544e9f3e",
   "metadata": {},
   "outputs": [
    {
     "data": {
      "text/plain": [
       "(143258, 8)"
      ]
     },
     "execution_count": 38,
     "metadata": {},
     "output_type": "execute_result"
    }
   ],
   "source": [
    "drop_movie.shape"
   ]
  },
  {
   "cell_type": "code",
   "execution_count": 39,
   "id": "23d7847f-2734-4084-a80d-0edee8353ad8",
   "metadata": {},
   "outputs": [
    {
     "data": {
      "text/html": [
       "<div>\n",
       "<style scoped>\n",
       "    .dataframe tbody tr th:only-of-type {\n",
       "        vertical-align: middle;\n",
       "    }\n",
       "\n",
       "    .dataframe tbody tr th {\n",
       "        vertical-align: top;\n",
       "    }\n",
       "\n",
       "    .dataframe thead th {\n",
       "        text-align: right;\n",
       "    }\n",
       "</style>\n",
       "<table border=\"1\" class=\"dataframe\">\n",
       "  <thead>\n",
       "    <tr style=\"text-align: right;\">\n",
       "      <th></th>\n",
       "      <th>movieid</th>\n",
       "      <th>title</th>\n",
       "      <th>audienceScore</th>\n",
       "      <th>releaseDateStreaming</th>\n",
       "      <th>runtimeMinutes</th>\n",
       "      <th>genre</th>\n",
       "      <th>originalLanguage</th>\n",
       "      <th>director</th>\n",
       "    </tr>\n",
       "  </thead>\n",
       "  <tbody>\n",
       "    <tr>\n",
       "      <th>0</th>\n",
       "      <td>han_solo_heroic_myth_wonder_woman</td>\n",
       "      <td>Han Solo Heroic Myth Wonder Woman</td>\n",
       "      <td>50.0</td>\n",
       "      <td>2018-08-25</td>\n",
       "      <td>75.0</td>\n",
       "      <td>Comedy, Horror, Sci-fi</td>\n",
       "      <td>English</td>\n",
       "      <td>Claude Nicolet</td>\n",
       "    </tr>\n",
       "    <tr>\n",
       "      <th>1</th>\n",
       "      <td>voyage_tyler_durden_han_solo_stardust</td>\n",
       "      <td>Voyage Tyler Durden Han Solo Stardust</td>\n",
       "      <td>NaN</td>\n",
       "      <td>2020-02-11</td>\n",
       "      <td>114.0</td>\n",
       "      <td>Drama</td>\n",
       "      <td>English</td>\n",
       "      <td>Nathan Haack</td>\n",
       "    </tr>\n",
       "    <tr>\n",
       "      <th>2</th>\n",
       "      <td>norman_bates_ferris_bueller_hermione_granger_v...</td>\n",
       "      <td>Norman Bates Ferris Bueller Hermione Granger V...</td>\n",
       "      <td>43.0</td>\n",
       "      <td>NaN</td>\n",
       "      <td>120.0</td>\n",
       "      <td>Drama</td>\n",
       "      <td>Korean</td>\n",
       "      <td>Theresa Smith</td>\n",
       "    </tr>\n",
       "    <tr>\n",
       "      <th>3</th>\n",
       "      <td>elegant_hermione_granger</td>\n",
       "      <td>Elegant Hermione Granger</td>\n",
       "      <td>60.0</td>\n",
       "      <td>2020-10-23</td>\n",
       "      <td>90.0</td>\n",
       "      <td>Action, Mystery &amp; thriller</td>\n",
       "      <td>English</td>\n",
       "      <td>Donald Lewis</td>\n",
       "    </tr>\n",
       "    <tr>\n",
       "      <th>4</th>\n",
       "      <td>adventure_rocky_balboa</td>\n",
       "      <td>Adventure Rocky Balboa</td>\n",
       "      <td>70.0</td>\n",
       "      <td>2017-03-27</td>\n",
       "      <td>80.0</td>\n",
       "      <td>Fantasy, Adventure, Animation</td>\n",
       "      <td>English</td>\n",
       "      <td>Howard Simms</td>\n",
       "    </tr>\n",
       "    <tr>\n",
       "      <th>...</th>\n",
       "      <td>...</td>\n",
       "      <td>...</td>\n",
       "      <td>...</td>\n",
       "      <td>...</td>\n",
       "      <td>...</td>\n",
       "      <td>...</td>\n",
       "      <td>...</td>\n",
       "      <td>...</td>\n",
       "    </tr>\n",
       "    <tr>\n",
       "      <th>143252</th>\n",
       "      <td>james_bond_jason_bourne</td>\n",
       "      <td>James Bond Jason Bourne</td>\n",
       "      <td>NaN</td>\n",
       "      <td>2019-01-03</td>\n",
       "      <td>131.0</td>\n",
       "      <td>Action, Mystery &amp; thriller</td>\n",
       "      <td>Hindi</td>\n",
       "      <td>Reginald Davis</td>\n",
       "    </tr>\n",
       "    <tr>\n",
       "      <th>143253</th>\n",
       "      <td>sherlock_holmes_surreal_james_bond</td>\n",
       "      <td>Sherlock Holmes Surreal James Bond</td>\n",
       "      <td>14.0</td>\n",
       "      <td>NaN</td>\n",
       "      <td>90.0</td>\n",
       "      <td>Action, Adventure, Anime</td>\n",
       "      <td>Japanese</td>\n",
       "      <td>William Sims</td>\n",
       "    </tr>\n",
       "    <tr>\n",
       "      <th>143254</th>\n",
       "      <td>mr._miyagi_katniss_everdeen_harmony</td>\n",
       "      <td>Mr. Miyagi Katniss Everdeen Harmony</td>\n",
       "      <td>NaN</td>\n",
       "      <td>NaN</td>\n",
       "      <td>99.0</td>\n",
       "      <td>Drama</td>\n",
       "      <td>English</td>\n",
       "      <td>Robert Paddock</td>\n",
       "    </tr>\n",
       "    <tr>\n",
       "      <th>143255</th>\n",
       "      <td>elegant_emerald_valiant_donnie_darko</td>\n",
       "      <td>Elegant Emerald Valiant Donnie Darko</td>\n",
       "      <td>71.0</td>\n",
       "      <td>NaN</td>\n",
       "      <td>43.0</td>\n",
       "      <td>Documentary</td>\n",
       "      <td>English</td>\n",
       "      <td>Roy Lovelace</td>\n",
       "    </tr>\n",
       "    <tr>\n",
       "      <th>143256</th>\n",
       "      <td>wonder_hermione_granger_hulk_v</td>\n",
       "      <td>Wonder Hermione Granger Hulk V</td>\n",
       "      <td>NaN</td>\n",
       "      <td>2006-11-21</td>\n",
       "      <td>63.0</td>\n",
       "      <td>Drama</td>\n",
       "      <td>English</td>\n",
       "      <td>Dwayne Clayton</td>\n",
       "    </tr>\n",
       "  </tbody>\n",
       "</table>\n",
       "<p>126404 rows × 8 columns</p>\n",
       "</div>"
      ],
      "text/plain": [
       "                                                  movieid  \\\n",
       "0                       han_solo_heroic_myth_wonder_woman   \n",
       "1                   voyage_tyler_durden_han_solo_stardust   \n",
       "2       norman_bates_ferris_bueller_hermione_granger_v...   \n",
       "3                                elegant_hermione_granger   \n",
       "4                                  adventure_rocky_balboa   \n",
       "...                                                   ...   \n",
       "143252                            james_bond_jason_bourne   \n",
       "143253                 sherlock_holmes_surreal_james_bond   \n",
       "143254                mr._miyagi_katniss_everdeen_harmony   \n",
       "143255               elegant_emerald_valiant_donnie_darko   \n",
       "143256                     wonder_hermione_granger_hulk_v   \n",
       "\n",
       "                                                    title  audienceScore  \\\n",
       "0                       Han Solo Heroic Myth Wonder Woman           50.0   \n",
       "1                   Voyage Tyler Durden Han Solo Stardust            NaN   \n",
       "2       Norman Bates Ferris Bueller Hermione Granger V...           43.0   \n",
       "3                                Elegant Hermione Granger           60.0   \n",
       "4                                  Adventure Rocky Balboa           70.0   \n",
       "...                                                   ...            ...   \n",
       "143252                            James Bond Jason Bourne            NaN   \n",
       "143253                 Sherlock Holmes Surreal James Bond           14.0   \n",
       "143254                Mr. Miyagi Katniss Everdeen Harmony            NaN   \n",
       "143255               Elegant Emerald Valiant Donnie Darko           71.0   \n",
       "143256                     Wonder Hermione Granger Hulk V            NaN   \n",
       "\n",
       "       releaseDateStreaming  runtimeMinutes                          genre  \\\n",
       "0                2018-08-25            75.0         Comedy, Horror, Sci-fi   \n",
       "1                2020-02-11           114.0                          Drama   \n",
       "2                       NaN           120.0                          Drama   \n",
       "3                2020-10-23            90.0     Action, Mystery & thriller   \n",
       "4                2017-03-27            80.0  Fantasy, Adventure, Animation   \n",
       "...                     ...             ...                            ...   \n",
       "143252           2019-01-03           131.0     Action, Mystery & thriller   \n",
       "143253                  NaN            90.0       Action, Adventure, Anime   \n",
       "143254                  NaN            99.0                          Drama   \n",
       "143255                  NaN            43.0                    Documentary   \n",
       "143256           2006-11-21            63.0                          Drama   \n",
       "\n",
       "       originalLanguage        director  \n",
       "0               English  Claude Nicolet  \n",
       "1               English    Nathan Haack  \n",
       "2                Korean   Theresa Smith  \n",
       "3               English    Donald Lewis  \n",
       "4               English    Howard Simms  \n",
       "...                 ...             ...  \n",
       "143252            Hindi  Reginald Davis  \n",
       "143253         Japanese    William Sims  \n",
       "143254          English  Robert Paddock  \n",
       "143255          English    Roy Lovelace  \n",
       "143256          English  Dwayne Clayton  \n",
       "\n",
       "[126404 rows x 8 columns]"
      ]
     },
     "execution_count": 39,
     "metadata": {},
     "output_type": "execute_result"
    }
   ],
   "source": [
    "# Next let us drop the duplicates from the movies data\n",
    "duplicate_movie = drop_movie.drop_duplicates('movieid')\n",
    "duplicate_movie"
   ]
  },
  {
   "cell_type": "markdown",
   "id": "aa7e8892-aaa7-4c5d-baa9-93fd4bd38b2e",
   "metadata": {},
   "source": [
    "## Merging train and movies dataset"
   ]
  },
  {
   "cell_type": "code",
   "execution_count": 40,
   "id": "3a5301a9-07ea-4d98-82d8-e8b4fe0aff1f",
   "metadata": {},
   "outputs": [
    {
     "data": {
      "text/html": [
       "<div>\n",
       "<style scoped>\n",
       "    .dataframe tbody tr th:only-of-type {\n",
       "        vertical-align: middle;\n",
       "    }\n",
       "\n",
       "    .dataframe tbody tr th {\n",
       "        vertical-align: top;\n",
       "    }\n",
       "\n",
       "    .dataframe thead th {\n",
       "        text-align: right;\n",
       "    }\n",
       "</style>\n",
       "<table border=\"1\" class=\"dataframe\">\n",
       "  <thead>\n",
       "    <tr style=\"text-align: right;\">\n",
       "      <th></th>\n",
       "      <th>movieid</th>\n",
       "      <th>reviewerName</th>\n",
       "      <th>isFrequentReviewer</th>\n",
       "      <th>reviewText</th>\n",
       "      <th>sentiment</th>\n",
       "      <th>title</th>\n",
       "      <th>audienceScore</th>\n",
       "      <th>releaseDateStreaming</th>\n",
       "      <th>runtimeMinutes</th>\n",
       "      <th>genre</th>\n",
       "      <th>originalLanguage</th>\n",
       "      <th>director</th>\n",
       "    </tr>\n",
       "  </thead>\n",
       "  <tbody>\n",
       "    <tr>\n",
       "      <th>0</th>\n",
       "      <td>marvelous_pirate</td>\n",
       "      <td>Benjamin Henry</td>\n",
       "      <td>0</td>\n",
       "      <td>henry selick movie coraline. stopmotion master...</td>\n",
       "      <td>1</td>\n",
       "      <td>Marvelous Pirate</td>\n",
       "      <td>65.0</td>\n",
       "      <td>2022-10-28</td>\n",
       "      <td>105.0</td>\n",
       "      <td>Comedy, Animation, Adventure, Fantasy</td>\n",
       "      <td>English</td>\n",
       "      <td>Bennie Basso</td>\n",
       "    </tr>\n",
       "    <tr>\n",
       "      <th>1</th>\n",
       "      <td>marvelous_pirate</td>\n",
       "      <td>Sharon Foster</td>\n",
       "      <td>0</td>\n",
       "      <td>&amp;&amp;93he haphazard story assembled filmmakers co...</td>\n",
       "      <td>0</td>\n",
       "      <td>Marvelous Pirate</td>\n",
       "      <td>65.0</td>\n",
       "      <td>2022-10-28</td>\n",
       "      <td>105.0</td>\n",
       "      <td>Comedy, Animation, Adventure, Fantasy</td>\n",
       "      <td>English</td>\n",
       "      <td>Bennie Basso</td>\n",
       "    </tr>\n",
       "    <tr>\n",
       "      <th>2</th>\n",
       "      <td>marvelous_pirate</td>\n",
       "      <td>Melinda Dunn</td>\n",
       "      <td>0</td>\n",
       "      <td>stopmotion artistry wendell &amp;amp wild exquisit...</td>\n",
       "      <td>1</td>\n",
       "      <td>Marvelous Pirate</td>\n",
       "      <td>65.0</td>\n",
       "      <td>2022-10-28</td>\n",
       "      <td>105.0</td>\n",
       "      <td>Comedy, Animation, Adventure, Fantasy</td>\n",
       "      <td>English</td>\n",
       "      <td>Bennie Basso</td>\n",
       "    </tr>\n",
       "    <tr>\n",
       "      <th>3</th>\n",
       "      <td>marvelous_pirate</td>\n",
       "      <td>Mr. Wayne Smith</td>\n",
       "      <td>0</td>\n",
       "      <td>wendell &amp;amp wild narratively overstuffed limi...</td>\n",
       "      <td>0</td>\n",
       "      <td>Marvelous Pirate</td>\n",
       "      <td>65.0</td>\n",
       "      <td>2022-10-28</td>\n",
       "      <td>105.0</td>\n",
       "      <td>Comedy, Animation, Adventure, Fantasy</td>\n",
       "      <td>English</td>\n",
       "      <td>Bennie Basso</td>\n",
       "    </tr>\n",
       "    <tr>\n",
       "      <th>4</th>\n",
       "      <td>marvelous_pirate</td>\n",
       "      <td>Connor Nelson</td>\n",
       "      <td>0</td>\n",
       "      <td>netherworlds&amp; it&amp; warm inviting&amp;</td>\n",
       "      <td>1</td>\n",
       "      <td>Marvelous Pirate</td>\n",
       "      <td>65.0</td>\n",
       "      <td>2022-10-28</td>\n",
       "      <td>105.0</td>\n",
       "      <td>Comedy, Animation, Adventure, Fantasy</td>\n",
       "      <td>English</td>\n",
       "      <td>Bennie Basso</td>\n",
       "    </tr>\n",
       "  </tbody>\n",
       "</table>\n",
       "</div>"
      ],
      "text/plain": [
       "            movieid     reviewerName  isFrequentReviewer  \\\n",
       "0  marvelous_pirate   Benjamin Henry                   0   \n",
       "1  marvelous_pirate    Sharon Foster                   0   \n",
       "2  marvelous_pirate     Melinda Dunn                   0   \n",
       "3  marvelous_pirate  Mr. Wayne Smith                   0   \n",
       "4  marvelous_pirate    Connor Nelson                   0   \n",
       "\n",
       "                                          reviewText  sentiment  \\\n",
       "0  henry selick movie coraline. stopmotion master...          1   \n",
       "1  &&93he haphazard story assembled filmmakers co...          0   \n",
       "2  stopmotion artistry wendell &amp wild exquisit...          1   \n",
       "3  wendell &amp wild narratively overstuffed limi...          0   \n",
       "4                   netherworlds& it& warm inviting&          1   \n",
       "\n",
       "              title  audienceScore releaseDateStreaming  runtimeMinutes  \\\n",
       "0  Marvelous Pirate           65.0           2022-10-28           105.0   \n",
       "1  Marvelous Pirate           65.0           2022-10-28           105.0   \n",
       "2  Marvelous Pirate           65.0           2022-10-28           105.0   \n",
       "3  Marvelous Pirate           65.0           2022-10-28           105.0   \n",
       "4  Marvelous Pirate           65.0           2022-10-28           105.0   \n",
       "\n",
       "                                   genre originalLanguage      director  \n",
       "0  Comedy, Animation, Adventure, Fantasy          English  Bennie Basso  \n",
       "1  Comedy, Animation, Adventure, Fantasy          English  Bennie Basso  \n",
       "2  Comedy, Animation, Adventure, Fantasy          English  Bennie Basso  \n",
       "3  Comedy, Animation, Adventure, Fantasy          English  Bennie Basso  \n",
       "4  Comedy, Animation, Adventure, Fantasy          English  Bennie Basso  "
      ]
     },
     "execution_count": 40,
     "metadata": {},
     "output_type": "execute_result"
    }
   ],
   "source": [
    "merged_train_data = pd.merge(train_copy, duplicate_movie, on='movieid', how='inner')\n",
    "merged_train_data.head()"
   ]
  },
  {
   "cell_type": "code",
   "execution_count": 41,
   "id": "c48888f0-f83f-4f7c-a48e-eeac32ce2bdc",
   "metadata": {},
   "outputs": [
    {
     "data": {
      "text/plain": [
       "(162758, 12)"
      ]
     },
     "execution_count": 41,
     "metadata": {},
     "output_type": "execute_result"
    }
   ],
   "source": [
    "merged_train_data.shape"
   ]
  },
  {
   "cell_type": "code",
   "execution_count": 42,
   "id": "7d54ca0a-c485-4565-8c18-2785f00ec3ca",
   "metadata": {},
   "outputs": [
    {
     "data": {
      "text/plain": [
       "13248"
      ]
     },
     "execution_count": 42,
     "metadata": {},
     "output_type": "execute_result"
    }
   ],
   "source": [
    "merged_train_data['audienceScore'].isna().sum()"
   ]
  },
  {
   "cell_type": "markdown",
   "id": "798342f9-ce73-4509-b1e8-23c9047f6c53",
   "metadata": {},
   "source": [
    "### Functions for imputation and plotting a histogram"
   ]
  },
  {
   "cell_type": "code",
   "execution_count": 43,
   "id": "dc93bfe6-f487-4b4e-9bac-baf03294eea2",
   "metadata": {},
   "outputs": [],
   "source": [
    "def impute_column_with_median(data, column):\n",
    "    \n",
    "    # Create the SimpleImputer with the desired strategy and fill_value (median)\n",
    "    simple_imputer = SimpleImputer(strategy='median')\n",
    "    \n",
    "    # Reshape the column into a 2D array\n",
    "    column_2d = data[column].values.reshape(-1, 1)\n",
    "    \n",
    "    # Impute the missing values using SimpleImputer\n",
    "    imputed_column = simple_imputer.fit_transform(column_2d).flatten()\n",
    "    \n",
    "    # Update the DataFrame with the imputed column\n",
    "    data[column] = imputed_column\n"
   ]
  },
  {
   "cell_type": "code",
   "execution_count": 44,
   "id": "51972d53-fc33-442f-8627-61523cf21eef",
   "metadata": {},
   "outputs": [],
   "source": [
    "def impute_column_with_most_frequent(data, column):\n",
    "    \n",
    "    # Create the SimpleImputer with the desired strategy (most_frequent)\n",
    "    simple_imputer = SimpleImputer(strategy='most_frequent')\n",
    "    \n",
    "    # Reshape the column into a 2D array\n",
    "    column_2d = data[column].values.reshape(-1, 1)\n",
    "    \n",
    "    # Impute the missing values using SimpleImputer\n",
    "    imputed_column = simple_imputer.fit_transform(column_2d).flatten()\n",
    "    \n",
    "    # Update the DataFrame with the imputed column\n",
    "    data[column] = imputed_column\n"
   ]
  },
  {
   "cell_type": "code",
   "execution_count": 45,
   "id": "cb033ab7-7344-480f-ae4d-e45f47059b1a",
   "metadata": {},
   "outputs": [],
   "source": [
    "def plot_histogram(data, column, bins=10, edgecolor='black'):\n",
    "    \n",
    "    # Extract the column data\n",
    "    column_data = data[column]\n",
    "\n",
    "    # Plot the distribution using a histogram\n",
    "    plt.hist(column_data, bins=bins, edgecolor=edgecolor, color='lightblue')\n",
    "\n",
    "    # Set the labels and title\n",
    "    plt.xlabel(column)\n",
    "    plt.ylabel('Frequency')\n",
    "    plt.title(f'Distribution of {column}')\n",
    "\n",
    "    # Display the plot\n",
    "    plt.show()\n"
   ]
  },
  {
   "cell_type": "code",
   "execution_count": 46,
   "id": "373c7319-3e82-49fc-9f01-5b6c1ddef75b",
   "metadata": {},
   "outputs": [
    {
     "data": {
      "image/png": "[encoded data removed]",
      "text/plain": [
       "<Figure size 640x480 with 1 Axes>"
      ]
     },
     "metadata": {},
     "output_type": "display_data"
    }
   ],
   "source": [
    "#Plotting the histogram before imputation for audienceScore\n",
    "\n",
    "plot_histogram(merged_train_data, 'audienceScore', bins=10, edgecolor='blue')"
   ]
  },
  {
   "cell_type": "code",
   "execution_count": 47,
   "id": "9cedde1b-644c-4f28-960f-0e60eb03daa4",
   "metadata": {},
   "outputs": [],
   "source": [
    "impute_column_with_median(merged_train_data, 'audienceScore')"
   ]
  },
  {
   "cell_type": "code",
   "execution_count": 48,
   "id": "b556451e-3858-4c7d-bb32-29f44a19c9d2",
   "metadata": {},
   "outputs": [
    {
     "data": {
      "image/png": "[encoded data removed]",
      "text/plain": [
       "<Figure size 640x480 with 1 Axes>"
      ]
     },
     "metadata": {},
     "output_type": "display_data"
    }
   ],
   "source": [
    "#Plotting the histogram after imputation for audienceScore\n",
    "\n",
    "plot_histogram(merged_train_data, 'audienceScore', bins=15, edgecolor='Black')"
   ]
  },
  {
   "cell_type": "code",
   "execution_count": 49,
   "id": "0252c4af-79fd-4dff-a13e-aed6acf70078",
   "metadata": {},
   "outputs": [
    {
     "data": {
      "image/png": "[encoded data removed]",
      "text/plain": [
       "<Figure size 640x480 with 1 Axes>"
      ]
     },
     "metadata": {},
     "output_type": "display_data"
    }
   ],
   "source": [
    "#Plotting the histogram before imputation for runtimeMinutes\n",
    "plot_histogram(merged_train_data, 'runtimeMinutes', bins=10, edgecolor='green')"
   ]
  },
  {
   "cell_type": "code",
   "execution_count": 50,
   "id": "500fca43-80bc-4d6f-9d53-eaee6df65ed3",
   "metadata": {},
   "outputs": [
    {
     "data": {
      "image/png": "[encoded data removed]",
      "text/plain": [
       "<Figure size 640x480 with 1 Axes>"
      ]
     },
     "metadata": {},
     "output_type": "display_data"
    }
   ],
   "source": [
    "impute_column_with_median(merged_train_data, 'runtimeMinutes')\n",
    "\n",
    "#Plotting the histogram after imputation for runtimeMinutes\n",
    "plot_histogram(merged_train_data, 'runtimeMinutes', bins=10, edgecolor='green')"
   ]
  },
  {
   "cell_type": "code",
   "execution_count": 51,
   "id": "1fa0e82c-09b0-4720-b7db-d955b6a7bc73",
   "metadata": {},
   "outputs": [
    {
     "data": {
      "text/plain": [
       "originalLanguage\n",
       "English                     132617\n",
       "French (France)               3341\n",
       "English (United Kingdom)      3258\n",
       "French (Canada)               2241\n",
       "Japanese                      1904\n",
       "                             ...  \n",
       "Gujarati                         3\n",
       "Slovenian                        2\n",
       "Somali                           2\n",
       "Latvian                          1\n",
       "Azerbaijani                      1\n",
       "Name: count, Length: 91, dtype: int64"
      ]
     },
     "execution_count": 51,
     "metadata": {},
     "output_type": "execute_result"
    }
   ],
   "source": [
    "merged_train_data.originalLanguage.value_counts()"
   ]
  },
  {
   "cell_type": "code",
   "execution_count": 52,
   "id": "2647e2ce-ef0a-4687-8f97-d07a3fcb062b",
   "metadata": {},
   "outputs": [],
   "source": [
    "impute_column_with_most_frequent(merged_train_data, 'originalLanguage')"
   ]
  },
  {
   "cell_type": "code",
   "execution_count": 53,
   "id": "78c2440f-ed26-40a8-b9f2-b2d3e7a607b1",
   "metadata": {},
   "outputs": [
    {
     "data": {
      "image/png": "[encoded data removed]",
      "text/plain": [
       "<Figure size 1000x600 with 1 Axes>"
      ]
     },
     "metadata": {},
     "output_type": "display_data"
    }
   ],
   "source": [
    "impute_column_with_most_frequent(merged_train_data, 'originalLanguage')\n",
    "\n",
    "# After imputation\n",
    "\n",
    "# Get the value counts of each language\n",
    "language_counts = merged_train_data['originalLanguage'].value_counts()\n",
    "\n",
    "# Extract the top 5 languages\n",
    "top_5_languages = language_counts.head(5)\n",
    "\n",
    "# Plot the countplot for the top 5 languages\n",
    "plt.figure(figsize=(10, 6))  \n",
    "sns.countplot(y='originalLanguage', data=merged_train_data, order=top_5_languages.index)\n",
    "\n",
    "# Set the labels and title\n",
    "plt.xlabel('Count')\n",
    "plt.ylabel('Original Language')\n",
    "plt.title('Distribution of Top 5 Original Languages after imputation')\n",
    "\n",
    "# Display the plot\n",
    "plt.show()"
   ]
  },
  {
   "cell_type": "code",
   "execution_count": 54,
   "id": "a71e918f-fb35-44f3-b332-63d6071078d4",
   "metadata": {},
   "outputs": [
    {
     "data": {
      "image/png": "[encoded data removed]",
      "text/plain": [
       "<Figure size 1000x600 with 1 Axes>"
      ]
     },
     "metadata": {},
     "output_type": "display_data"
    }
   ],
   "source": [
    "# Before imputation\n",
    "\n",
    "# Get the value counts of each language\n",
    "language_counts = merged_train_data['genre'].value_counts()\n",
    "\n",
    "# Extract the top 5 languages\n",
    "top_5_languages = language_counts.head(5)\n",
    "\n",
    "# Plot the countplot for the top 5 languages\n",
    "plt.figure(figsize=(10, 6))  \n",
    "sns.countplot(y='genre', data=merged_train_data, order=top_5_languages.index)\n",
    "\n",
    "# Set the labels and title\n",
    "plt.xlabel('Count')\n",
    "plt.ylabel('Genre')\n",
    "plt.title('Distribution of Top 5 Genres before imputation')\n",
    "\n",
    "# Display the plot\n",
    "plt.show()"
   ]
  },
  {
   "cell_type": "code",
   "execution_count": 55,
   "id": "9b5d67ab-b3e8-44ee-a8d3-2059b6cbf561",
   "metadata": {},
   "outputs": [],
   "source": [
    "\n",
    "impute_column_with_most_frequent(merged_train_data, 'genre')"
   ]
  },
  {
   "cell_type": "code",
   "execution_count": 56,
   "id": "ca18cc94-27fe-4e95-8680-877708d1c2f4",
   "metadata": {},
   "outputs": [
    {
     "data": {
      "image/png": "[encoded data removed]",
      "text/plain": [
       "<Figure size 1000x600 with 1 Axes>"
      ]
     },
     "metadata": {},
     "output_type": "display_data"
    }
   ],
   "source": [
    "# After  imputation\n",
    "\n",
    "# Get the value counts of each language\n",
    "language_counts = merged_train_data['genre'].value_counts()\n",
    "\n",
    "# Extract the top 5 languages\n",
    "top_5_languages = language_counts.head(5)\n",
    "\n",
    "# Plot the countplot for the top 5 languages\n",
    "plt.figure(figsize=(10, 6))  \n",
    "sns.countplot(y='genre', data=merged_train_data, order=top_5_languages.index)\n",
    "\n",
    "# Set the labels and title\n",
    "plt.xlabel('Count')\n",
    "plt.ylabel('Genre')\n",
    "plt.title('Distribution of Top 5 Genres after imputation')\n",
    "\n",
    "# Display the plot\n",
    "plt.show()"
   ]
  },
  {
   "cell_type": "code",
   "execution_count": 57,
   "id": "d1ae079a-a09a-4549-a3e8-8508b855914a",
   "metadata": {},
   "outputs": [
    {
     "data": {
      "text/plain": [
       "releaseDateStreaming\n",
       "2017-05-22    653\n",
       "2019-08-27    644\n",
       "2004-10-12    373\n",
       "2010-08-17    344\n",
       "2004-09-07    316\n",
       "             ... \n",
       "2014-10-20      1\n",
       "2015-12-06      1\n",
       "2022-02-02      1\n",
       "2022-05-01      1\n",
       "2011-06-13      1\n",
       "Name: count, Length: 2899, dtype: int64"
      ]
     },
     "execution_count": 57,
     "metadata": {},
     "output_type": "execute_result"
    }
   ],
   "source": [
    "merged_train_data.releaseDateStreaming.value_counts()"
   ]
  },
  {
   "cell_type": "code",
   "execution_count": 58,
   "id": "c9d44a38-ec98-4c09-b6fd-58173d7027d2",
   "metadata": {},
   "outputs": [
    {
     "name": "stdout",
     "output_type": "stream",
     "text": [
      "     releaseDateStreaming  movieid\n",
      "1585           2017-05-22      653\n",
      "2101           2019-08-27      644\n",
      "410            2004-10-12      373\n",
      "823            2010-08-17      344\n",
      "404            2004-09-07      316\n",
      "766            2009-11-03      308\n",
      "2123           2019-10-11      303\n",
      "1986           2019-02-19      303\n",
      "654            2008-05-06      291\n",
      "925            2011-10-11      282\n"
     ]
    },
    {
     "data": {
      "image/png": "[encoded data removed]",
      "text/plain": [
       "<Figure size 1200x600 with 1 Axes>"
      ]
     },
     "metadata": {},
     "output_type": "display_data"
    }
   ],
   "source": [
    "import matplotlib.pyplot as plt\n",
    "\n",
    "# Group the data by 'releaseDateStreaming' and count the number of movies on each date\n",
    "movies_streamed_by_date = merged_train_data['movieid'].groupby(merged_train_data['releaseDateStreaming']).count()\n",
    "\n",
    "# Reset the index to convert the groupby result into a DataFrame\n",
    "movies_streamed_by_date = movies_streamed_by_date.reset_index()\n",
    "\n",
    "# Sort the DataFrame by count of movies in descending order\n",
    "movies_streamed_by_date_sorted = movies_streamed_by_date.sort_values(by='movieid', ascending=False)\n",
    "\n",
    "# Select the top 10 dates with the highest number of movies streamed\n",
    "top_10_dates = movies_streamed_by_date_sorted.head(10)\n",
    "\n",
    "# Display the top 10 dates\n",
    "print(top_10_dates)\n",
    "\n",
    "# Custom autopct function to display counts\n",
    "def absolute_value(val):\n",
    "    a = int(val/100.*sum(top_10_dates['movieid']))\n",
    "    return '{:d}'.format(a)\n",
    "\n",
    "# Creating the pie chart\n",
    "plt.figure(figsize=(12, 6))\n",
    "plt.pie(top_10_dates['movieid'], labels=top_10_dates['releaseDateStreaming'], autopct=absolute_value, startangle=140, colors=plt.cm.Paired.colors)\n",
    "plt.title('Top 10 Dates with the Highest Number of Movies Streamed before Imputation')\n",
    "plt.axis('equal')  # Equal aspect ratio ensures that pie is drawn as a circle.\n",
    "plt.tight_layout()\n",
    "plt.show()\n"
   ]
  },
  {
   "cell_type": "code",
   "execution_count": 59,
   "id": "b06838fc-a1c1-4149-aac0-0510768b7910",
   "metadata": {},
   "outputs": [
    {
     "data": {
      "text/plain": [
       "sentiment\n",
       "1    66.823751\n",
       "0    33.176249\n",
       "Name: count, dtype: float64"
      ]
     },
     "execution_count": 59,
     "metadata": {},
     "output_type": "execute_result"
    }
   ],
   "source": [
    "merged_sentiment_count = merged_train_data['sentiment'].value_counts()\n",
    "merged_sentiment_count\n",
    "\n",
    "merged_sentiment_percent = merged_sentiment_count/len(merged_train_data) * 100\n",
    "merged_sentiment_percent"
   ]
  },
  {
   "cell_type": "markdown",
   "id": "7d20687a-6185-4c5c-8104-31b0ad75f8b2",
   "metadata": {},
   "source": [
    "### Applying SMOTE to balance the merged movies and train dataset"
   ]
  },
  {
   "cell_type": "code",
   "execution_count": 60,
   "id": "4e2d3002-02d8-43da-b36d-7cd00f76b601",
   "metadata": {},
   "outputs": [
    {
     "data": {
      "image/png": "[encoded data removed]",
      "text/plain": [
       "<Figure size 600x600 with 1 Axes>"
      ]
     },
     "metadata": {},
     "output_type": "display_data"
    }
   ],
   "source": [
    "positive_percentage = 50.0\n",
    "negative_percentage = 50.0\n",
    "\n",
    "# Data for the pie chart\n",
    "labels = ['Positive', 'Negative']\n",
    "sizes = [positive_percentage, negative_percentage]\n",
    "colors = ['Red', 'Blue']\n",
    "\n",
    "# Create the pie chart without explode and shadow\n",
    "plt.figure(figsize=(6, 6))\n",
    "plt.pie(sizes, labels=labels, colors=colors, autopct='%1.1f%%', startangle=140)\n",
    "plt.axis('equal')  # Equal aspect ratio ensures that pie is drawn as a circle.\n",
    "plt.title('Sentiment Distribution')\n",
    "plt.show()\n"
   ]
  },
  {
   "cell_type": "markdown",
   "id": "aa9f6bc5-63f2-4c5a-9c15-e3c94c46be48",
   "metadata": {},
   "source": [
    "### Intuitive EDA"
   ]
  },
  {
   "cell_type": "code",
   "execution_count": 61,
   "id": "a5d22bc4-6251-4cfa-8b8d-f5b4f3059d31",
   "metadata": {},
   "outputs": [
    {
     "name": "stderr",
     "output_type": "stream",
     "text": [
      "/Applications/anaconda3/lib/python3.11/site-packages/seaborn/_oldcore.py:1119: FutureWarning: use_inf_as_na option is deprecated and will be removed in a future version. Convert inf values to NaN before operating instead.\n",
      "  with pd.option_context('mode.use_inf_as_na', True):\n"
     ]
    },
    {
     "data": {
      "text/plain": [
       "Text(0.5, 1.0, 'How Audience Score affects the sentiment ')"
      ]
     },
     "execution_count": 61,
     "metadata": {},
     "output_type": "execute_result"
    },
    {
     "data": {
      "image/png": "[encoded data removed]",
      "text/plain": [
       "<Figure size 581.111x500 with 1 Axes>"
      ]
     },
     "metadata": {},
     "output_type": "display_data"
    }
   ],
   "source": [
    "sns.displot(data=merged_train_data, x='audienceScore', hue='sentiment', kind='kde')\n",
    "# Set the labels and title\n",
    "plt.xlabel('Sentiment')\n",
    "plt.ylabel('Audience Score')\n",
    "plt.title('How Audience Score affects the sentiment ')"
   ]
  },
  {
   "cell_type": "code",
   "execution_count": 63,
   "id": "3dc4a5ab-0845-4bb3-ab75-188574d62e08",
   "metadata": {},
   "outputs": [
    {
     "name": "stderr",
     "output_type": "stream",
     "text": [
      "/Applications/anaconda3/lib/python3.11/site-packages/seaborn/_oldcore.py:1119: FutureWarning: use_inf_as_na option is deprecated and will be removed in a future version. Convert inf values to NaN before operating instead.\n",
      "  with pd.option_context('mode.use_inf_as_na', True):\n"
     ]
    },
    {
     "data": {
      "text/plain": [
       "Text(0.5, 1.0, 'How runtime Minutes affects the sentiment ')"
      ]
     },
     "execution_count": 63,
     "metadata": {},
     "output_type": "execute_result"
    },
    {
     "data": {
      "image/png": "[encoded data removed]",
      "text/plain": [
       "<Figure size 581.111x500 with 1 Axes>"
      ]
     },
     "metadata": {},
     "output_type": "display_data"
    }
   ],
   "source": [
    "sns.displot(data=merged_train_data, x='runtimeMinutes', hue='sentiment', kind='kde')\n",
    "# Set the labels and title\n",
    "plt.ylabel('Runtime Minutes')\n",
    "plt.title('How runtime Minutes affects the sentiment ')"
   ]
  },
  {
   "cell_type": "code",
   "execution_count": 64,
   "id": "b511cfaf-6653-4b31-92ea-8fc663b6b2dc",
   "metadata": {},
   "outputs": [
    {
     "data": {
      "text/html": [
       "<div>\n",
       "<style scoped>\n",
       "    .dataframe tbody tr th:only-of-type {\n",
       "        vertical-align: middle;\n",
       "    }\n",
       "\n",
       "    .dataframe tbody tr th {\n",
       "        vertical-align: top;\n",
       "    }\n",
       "\n",
       "    .dataframe thead th {\n",
       "        text-align: right;\n",
       "    }\n",
       "</style>\n",
       "<table border=\"1\" class=\"dataframe\">\n",
       "  <thead>\n",
       "    <tr style=\"text-align: right;\">\n",
       "      <th></th>\n",
       "      <th>movieid</th>\n",
       "      <th>reviewerName</th>\n",
       "      <th>isTopCritic</th>\n",
       "      <th>reviewText</th>\n",
       "      <th>title</th>\n",
       "      <th>audienceScore</th>\n",
       "      <th>releaseDateStreaming</th>\n",
       "      <th>runtimeMinutes</th>\n",
       "      <th>genre</th>\n",
       "      <th>originalLanguage</th>\n",
       "      <th>director</th>\n",
       "    </tr>\n",
       "  </thead>\n",
       "  <tbody>\n",
       "    <tr>\n",
       "      <th>0</th>\n",
       "      <td>legend_marty_mcfly_oracle</td>\n",
       "      <td>John Kim</td>\n",
       "      <td>0</td>\n",
       "      <td>green slowly cranks dread style occasional sha...</td>\n",
       "      <td>Legend Marty McFly Oracle</td>\n",
       "      <td>57.0</td>\n",
       "      <td>2022-10-14</td>\n",
       "      <td>111.0</td>\n",
       "      <td>Holiday, Horror, Mystery &amp; thriller</td>\n",
       "      <td>English</td>\n",
       "      <td>Sara Barnett</td>\n",
       "    </tr>\n",
       "    <tr>\n",
       "      <th>1</th>\n",
       "      <td>terminator_katniss_everdeen_glimmer</td>\n",
       "      <td>Brian Chaney</td>\n",
       "      <td>0</td>\n",
       "      <td>philip noyce direction elegant unforced, admir...</td>\n",
       "      <td>Terminator Katniss Everdeen Glimmer</td>\n",
       "      <td>86.0</td>\n",
       "      <td>2003-04-15</td>\n",
       "      <td>94.0</td>\n",
       "      <td>Drama, Adventure</td>\n",
       "      <td>English</td>\n",
       "      <td>Cindy Flander</td>\n",
       "    </tr>\n",
       "    <tr>\n",
       "      <th>2</th>\n",
       "      <td>james_bond_labyrinth_gollum</td>\n",
       "      <td>Danielle Parker</td>\n",
       "      <td>0</td>\n",
       "      <td>path maria ultimately takes... lessen pleasure...</td>\n",
       "      <td>James Bond Labyrinth Gollum</td>\n",
       "      <td>62.0</td>\n",
       "      <td>NaN</td>\n",
       "      <td>NaN</td>\n",
       "      <td>Drama</td>\n",
       "      <td>French</td>\n",
       "      <td>Charlotte Bramble</td>\n",
       "    </tr>\n",
       "    <tr>\n",
       "      <th>3</th>\n",
       "      <td>v_quest_han_solo_wondrous</td>\n",
       "      <td>Brittany Lane</td>\n",
       "      <td>0</td>\n",
       "      <td>pig arthouse john wick synopsis suggest, stran...</td>\n",
       "      <td>V Quest Han Solo Wondrous</td>\n",
       "      <td>84.0</td>\n",
       "      <td>2021-08-03</td>\n",
       "      <td>92.0</td>\n",
       "      <td>Drama, Mystery &amp; thriller</td>\n",
       "      <td>English</td>\n",
       "      <td>Jean Gainer</td>\n",
       "    </tr>\n",
       "    <tr>\n",
       "      <th>4</th>\n",
       "      <td>enigma_hulk_surreal_starlight</td>\n",
       "      <td>Justin Willis</td>\n",
       "      <td>0</td>\n",
       "      <td>imaginative nobudget musical sorts male samese...</td>\n",
       "      <td>Enigma Hulk Surreal Starlight</td>\n",
       "      <td>NaN</td>\n",
       "      <td>NaN</td>\n",
       "      <td>66.0</td>\n",
       "      <td>Drama, Musical</td>\n",
       "      <td>Arabic</td>\n",
       "      <td>Marvin Short</td>\n",
       "    </tr>\n",
       "  </tbody>\n",
       "</table>\n",
       "</div>"
      ],
      "text/plain": [
       "                               movieid     reviewerName  isTopCritic  \\\n",
       "0            legend_marty_mcfly_oracle         John Kim            0   \n",
       "1  terminator_katniss_everdeen_glimmer     Brian Chaney            0   \n",
       "2          james_bond_labyrinth_gollum  Danielle Parker            0   \n",
       "3            v_quest_han_solo_wondrous    Brittany Lane            0   \n",
       "4        enigma_hulk_surreal_starlight    Justin Willis            0   \n",
       "\n",
       "                                          reviewText  \\\n",
       "0  green slowly cranks dread style occasional sha...   \n",
       "1  philip noyce direction elegant unforced, admir...   \n",
       "2  path maria ultimately takes... lessen pleasure...   \n",
       "3  pig arthouse john wick synopsis suggest, stran...   \n",
       "4  imaginative nobudget musical sorts male samese...   \n",
       "\n",
       "                                 title  audienceScore releaseDateStreaming  \\\n",
       "0            Legend Marty McFly Oracle           57.0           2022-10-14   \n",
       "1  Terminator Katniss Everdeen Glimmer           86.0           2003-04-15   \n",
       "2          James Bond Labyrinth Gollum           62.0                  NaN   \n",
       "3            V Quest Han Solo Wondrous           84.0           2021-08-03   \n",
       "4        Enigma Hulk Surreal Starlight            NaN                  NaN   \n",
       "\n",
       "   runtimeMinutes                                genre originalLanguage  \\\n",
       "0           111.0  Holiday, Horror, Mystery & thriller          English   \n",
       "1            94.0                     Drama, Adventure          English   \n",
       "2             NaN                                Drama           French   \n",
       "3            92.0            Drama, Mystery & thriller          English   \n",
       "4            66.0                       Drama, Musical           Arabic   \n",
       "\n",
       "            director  \n",
       "0       Sara Barnett  \n",
       "1      Cindy Flander  \n",
       "2  Charlotte Bramble  \n",
       "3        Jean Gainer  \n",
       "4       Marvin Short  "
      ]
     },
     "execution_count": 64,
     "metadata": {},
     "output_type": "execute_result"
    }
   ],
   "source": [
    "merged_test_data = pd.merge(test_copy, duplicate_movie, on='movieid', how='left')\n",
    "merged_test_data.head()"
   ]
  },
  {
   "cell_type": "code",
   "execution_count": 65,
   "id": "04e253f6-b464-450b-ae9c-c5e9404e62e8",
   "metadata": {},
   "outputs": [
    {
     "data": {
      "text/plain": [
       "(55315, 11)"
      ]
     },
     "execution_count": 65,
     "metadata": {},
     "output_type": "execute_result"
    }
   ],
   "source": [
    "merged_test_data.shape"
   ]
  },
  {
   "cell_type": "code",
   "execution_count": 66,
   "id": "3b6fc035-f50f-4a62-b52f-fa814fa8fe0b",
   "metadata": {},
   "outputs": [],
   "source": [
    "# Using the same imputations technique used in the merged_train_dataset to handle missing values in merged_train_dataset\n",
    "\n",
    "impute_column_with_median(merged_test_data, 'audienceScore')\n",
    "\n",
    "impute_column_with_most_frequent(merged_test_data, 'releaseDateStreaming')\n",
    "\n",
    "impute_column_with_most_frequent(merged_test_data, 'genre')\n",
    "\n",
    "impute_column_with_most_frequent(merged_test_data, 'originalLanguage')\n",
    "\n",
    "impute_column_with_median(merged_test_data, 'runtimeMinutes')\n"
   ]
  },
  {
   "cell_type": "markdown",
   "id": "39079ab9-f92d-41e6-bc95-7784ff7c1266",
   "metadata": {},
   "source": [
    "## Scaling our data"
   ]
  },
  {
   "cell_type": "code",
   "execution_count": 67,
   "id": "1ff9f3e8-f483-40cc-a812-0dceba44e3f7",
   "metadata": {},
   "outputs": [],
   "source": [
    "# Use MinMax Scaler to scale the runtimeMinutes and audienceScore columns\n",
    "\n",
    "from sklearn.preprocessing import MinMaxScaler\n",
    "\n",
    "def min_max_scale(data, column):\n",
    "    \n",
    "    # Create the MinMaxScaler\n",
    "    min_max_scaler = MinMaxScaler()\n",
    "    \n",
    "    # Reshape the column into a 2D array\n",
    "    column_2d = data[column].values.reshape(-1, 1)\n",
    "    \n",
    "    # Apply Min-Max Scaling to the column in-place\n",
    "    data[column] = min_max_scaler.fit_transform(column_2d)\n"
   ]
  },
  {
   "cell_type": "code",
   "execution_count": 68,
   "id": "3383ff1e-7624-4a0f-ad67-0b7529dda33e",
   "metadata": {},
   "outputs": [],
   "source": [
    "# Scaling the columns of audienceScore, runtimeMinutes for both merged training and test data\n",
    "min_max_scale(merged_train_data,'audienceScore')\n",
    "min_max_scale(merged_train_data,'runtimeMinutes')\n",
    "\n",
    "\n",
    "min_max_scale(merged_test_data,'audienceScore')\n",
    "min_max_scale(merged_test_data,'runtimeMinutes')\n"
   ]
  },
  {
   "cell_type": "markdown",
   "id": "74b6c496-f382-42ba-b921-e35b575cdccf",
   "metadata": {},
   "source": [
    "# Splitting our dataset"
   ]
  },
  {
   "cell_type": "code",
   "execution_count": 69,
   "id": "3ec364e0-672c-4990-ba48-a0ea3f3cd402",
   "metadata": {},
   "outputs": [
    {
     "data": {
      "text/plain": [
       "((130206, 12), (32552, 12))"
      ]
     },
     "execution_count": 69,
     "metadata": {},
     "output_type": "execute_result"
    }
   ],
   "source": [
    "# splitting the merged dataset into train and test set\n",
    "\n",
    "merge_train, merge_test = train_test_split(merged_train_data, test_size = 0.2, stratify= merged_train_data.sentiment, random_state = 10)\n",
    "merge_train.shape, merge_test.shape"
   ]
  },
  {
   "cell_type": "code",
   "execution_count": 70,
   "id": "5e305759-6d40-4161-9882-6f92a233f51a",
   "metadata": {},
   "outputs": [],
   "source": [
    "positive_train = merge_train[merge_train.sentiment==1]\n",
    "negative_train = merge_train[merge_train.sentiment==0]\n",
    "\n",
    "\n",
    "positive_test = merge_test[merge_test.sentiment==1]\n",
    "negative_test = merge_test[merge_test.sentiment==0]\n"
   ]
  },
  {
   "cell_type": "code",
   "execution_count": 71,
   "id": "eec93935-cdb7-4420-8bda-0855ba157613",
   "metadata": {},
   "outputs": [
    {
     "data": {
      "text/plain": [
       "(((87009, 12), (43197, 12)), ((21752, 12), (10800, 12)))"
      ]
     },
     "execution_count": 71,
     "metadata": {},
     "output_type": "execute_result"
    }
   ],
   "source": [
    "#Check imbalance\n",
    "\n",
    "(positive_train.shape,negative_train.shape),(positive_test.shape,negative_test.shape)\n"
   ]
  },
  {
   "cell_type": "code",
   "execution_count": 72,
   "id": "e6c4d33a-9ca1-41ec-9079-bd96497309b1",
   "metadata": {},
   "outputs": [
    {
     "data": {
      "text/html": [
       "<div>\n",
       "<style scoped>\n",
       "    .dataframe tbody tr th:only-of-type {\n",
       "        vertical-align: middle;\n",
       "    }\n",
       "\n",
       "    .dataframe tbody tr th {\n",
       "        vertical-align: top;\n",
       "    }\n",
       "\n",
       "    .dataframe thead th {\n",
       "        text-align: right;\n",
       "    }\n",
       "</style>\n",
       "<table border=\"1\" class=\"dataframe\">\n",
       "  <thead>\n",
       "    <tr style=\"text-align: right;\">\n",
       "      <th></th>\n",
       "      <th>isFrequentReviewer</th>\n",
       "      <th>sentiment</th>\n",
       "      <th>audienceScore</th>\n",
       "      <th>runtimeMinutes</th>\n",
       "    </tr>\n",
       "  </thead>\n",
       "  <tbody>\n",
       "    <tr>\n",
       "      <th>count</th>\n",
       "      <td>87009.000000</td>\n",
       "      <td>87009.0</td>\n",
       "      <td>87009.000000</td>\n",
       "      <td>87009.000000</td>\n",
       "    </tr>\n",
       "    <tr>\n",
       "      <th>mean</th>\n",
       "      <td>0.286982</td>\n",
       "      <td>1.0</td>\n",
       "      <td>0.694909</td>\n",
       "      <td>0.185889</td>\n",
       "    </tr>\n",
       "    <tr>\n",
       "      <th>std</th>\n",
       "      <td>0.452356</td>\n",
       "      <td>0.0</td>\n",
       "      <td>0.176368</td>\n",
       "      <td>0.040235</td>\n",
       "    </tr>\n",
       "    <tr>\n",
       "      <th>min</th>\n",
       "      <td>0.000000</td>\n",
       "      <td>1.0</td>\n",
       "      <td>0.000000</td>\n",
       "      <td>0.001795</td>\n",
       "    </tr>\n",
       "    <tr>\n",
       "      <th>25%</th>\n",
       "      <td>0.000000</td>\n",
       "      <td>1.0</td>\n",
       "      <td>0.600000</td>\n",
       "      <td>0.161580</td>\n",
       "    </tr>\n",
       "    <tr>\n",
       "      <th>50%</th>\n",
       "      <td>0.000000</td>\n",
       "      <td>1.0</td>\n",
       "      <td>0.710000</td>\n",
       "      <td>0.179533</td>\n",
       "    </tr>\n",
       "    <tr>\n",
       "      <th>75%</th>\n",
       "      <td>1.000000</td>\n",
       "      <td>1.0</td>\n",
       "      <td>0.830000</td>\n",
       "      <td>0.206463</td>\n",
       "    </tr>\n",
       "    <tr>\n",
       "      <th>max</th>\n",
       "      <td>1.000000</td>\n",
       "      <td>1.0</td>\n",
       "      <td>1.000000</td>\n",
       "      <td>1.000000</td>\n",
       "    </tr>\n",
       "  </tbody>\n",
       "</table>\n",
       "</div>"
      ],
      "text/plain": [
       "       isFrequentReviewer  sentiment  audienceScore  runtimeMinutes\n",
       "count        87009.000000    87009.0   87009.000000    87009.000000\n",
       "mean             0.286982        1.0       0.694909        0.185889\n",
       "std              0.452356        0.0       0.176368        0.040235\n",
       "min              0.000000        1.0       0.000000        0.001795\n",
       "25%              0.000000        1.0       0.600000        0.161580\n",
       "50%              0.000000        1.0       0.710000        0.179533\n",
       "75%              1.000000        1.0       0.830000        0.206463\n",
       "max              1.000000        1.0       1.000000        1.000000"
      ]
     },
     "execution_count": 72,
     "metadata": {},
     "output_type": "execute_result"
    }
   ],
   "source": [
    "positive_train.describe()"
   ]
  },
  {
   "cell_type": "code",
   "execution_count": 73,
   "id": "49c542a2-a41d-4b90-a0d2-65c4d7ef45aa",
   "metadata": {},
   "outputs": [
    {
     "data": {
      "text/html": [
       "<div>\n",
       "<style scoped>\n",
       "    .dataframe tbody tr th:only-of-type {\n",
       "        vertical-align: middle;\n",
       "    }\n",
       "\n",
       "    .dataframe tbody tr th {\n",
       "        vertical-align: top;\n",
       "    }\n",
       "\n",
       "    .dataframe thead th {\n",
       "        text-align: right;\n",
       "    }\n",
       "</style>\n",
       "<table border=\"1\" class=\"dataframe\">\n",
       "  <thead>\n",
       "    <tr style=\"text-align: right;\">\n",
       "      <th></th>\n",
       "      <th>isFrequentReviewer</th>\n",
       "      <th>sentiment</th>\n",
       "      <th>audienceScore</th>\n",
       "      <th>runtimeMinutes</th>\n",
       "    </tr>\n",
       "  </thead>\n",
       "  <tbody>\n",
       "    <tr>\n",
       "      <th>count</th>\n",
       "      <td>43197.000000</td>\n",
       "      <td>43197.0</td>\n",
       "      <td>43197.000000</td>\n",
       "      <td>43197.000000</td>\n",
       "    </tr>\n",
       "    <tr>\n",
       "      <th>mean</th>\n",
       "      <td>0.335787</td>\n",
       "      <td>0.0</td>\n",
       "      <td>0.571936</td>\n",
       "      <td>0.182093</td>\n",
       "    </tr>\n",
       "    <tr>\n",
       "      <th>std</th>\n",
       "      <td>0.472270</td>\n",
       "      <td>0.0</td>\n",
       "      <td>0.193660</td>\n",
       "      <td>0.036509</td>\n",
       "    </tr>\n",
       "    <tr>\n",
       "      <th>min</th>\n",
       "      <td>0.000000</td>\n",
       "      <td>0.0</td>\n",
       "      <td>0.000000</td>\n",
       "      <td>0.000000</td>\n",
       "    </tr>\n",
       "    <tr>\n",
       "      <th>25%</th>\n",
       "      <td>0.000000</td>\n",
       "      <td>0.0</td>\n",
       "      <td>0.420000</td>\n",
       "      <td>0.159785</td>\n",
       "    </tr>\n",
       "    <tr>\n",
       "      <th>50%</th>\n",
       "      <td>0.000000</td>\n",
       "      <td>0.0</td>\n",
       "      <td>0.590000</td>\n",
       "      <td>0.177738</td>\n",
       "    </tr>\n",
       "    <tr>\n",
       "      <th>75%</th>\n",
       "      <td>1.000000</td>\n",
       "      <td>0.0</td>\n",
       "      <td>0.710000</td>\n",
       "      <td>0.199282</td>\n",
       "    </tr>\n",
       "    <tr>\n",
       "      <th>max</th>\n",
       "      <td>1.000000</td>\n",
       "      <td>0.0</td>\n",
       "      <td>1.000000</td>\n",
       "      <td>0.863555</td>\n",
       "    </tr>\n",
       "  </tbody>\n",
       "</table>\n",
       "</div>"
      ],
      "text/plain": [
       "       isFrequentReviewer  sentiment  audienceScore  runtimeMinutes\n",
       "count        43197.000000    43197.0   43197.000000    43197.000000\n",
       "mean             0.335787        0.0       0.571936        0.182093\n",
       "std              0.472270        0.0       0.193660        0.036509\n",
       "min              0.000000        0.0       0.000000        0.000000\n",
       "25%              0.000000        0.0       0.420000        0.159785\n",
       "50%              0.000000        0.0       0.590000        0.177738\n",
       "75%              1.000000        0.0       0.710000        0.199282\n",
       "max              1.000000        0.0       1.000000        0.863555"
      ]
     },
     "execution_count": 73,
     "metadata": {},
     "output_type": "execute_result"
    }
   ],
   "source": [
    "negative_train.describe()"
   ]
  },
  {
   "cell_type": "code",
   "execution_count": 74,
   "id": "bdf7fcf9-0a42-42f0-a262-79bcc1204a4c",
   "metadata": {},
   "outputs": [
    {
     "data": {
      "text/html": [
       "<div>\n",
       "<style scoped>\n",
       "    .dataframe tbody tr th:only-of-type {\n",
       "        vertical-align: middle;\n",
       "    }\n",
       "\n",
       "    .dataframe tbody tr th {\n",
       "        vertical-align: top;\n",
       "    }\n",
       "\n",
       "    .dataframe thead th {\n",
       "        text-align: right;\n",
       "    }\n",
       "</style>\n",
       "<table border=\"1\" class=\"dataframe\">\n",
       "  <thead>\n",
       "    <tr style=\"text-align: right;\">\n",
       "      <th></th>\n",
       "      <th>isFrequentReviewer</th>\n",
       "      <th>sentiment</th>\n",
       "      <th>audienceScore</th>\n",
       "      <th>runtimeMinutes</th>\n",
       "    </tr>\n",
       "  </thead>\n",
       "  <tbody>\n",
       "    <tr>\n",
       "      <th>count</th>\n",
       "      <td>21752.000000</td>\n",
       "      <td>21752.0</td>\n",
       "      <td>21752.000000</td>\n",
       "      <td>21752.000000</td>\n",
       "    </tr>\n",
       "    <tr>\n",
       "      <th>mean</th>\n",
       "      <td>0.292479</td>\n",
       "      <td>1.0</td>\n",
       "      <td>0.695065</td>\n",
       "      <td>0.186281</td>\n",
       "    </tr>\n",
       "    <tr>\n",
       "      <th>std</th>\n",
       "      <td>0.454912</td>\n",
       "      <td>0.0</td>\n",
       "      <td>0.177242</td>\n",
       "      <td>0.041489</td>\n",
       "    </tr>\n",
       "    <tr>\n",
       "      <th>min</th>\n",
       "      <td>0.000000</td>\n",
       "      <td>1.0</td>\n",
       "      <td>0.000000</td>\n",
       "      <td>0.010772</td>\n",
       "    </tr>\n",
       "    <tr>\n",
       "      <th>25%</th>\n",
       "      <td>0.000000</td>\n",
       "      <td>1.0</td>\n",
       "      <td>0.600000</td>\n",
       "      <td>0.161580</td>\n",
       "    </tr>\n",
       "    <tr>\n",
       "      <th>50%</th>\n",
       "      <td>0.000000</td>\n",
       "      <td>1.0</td>\n",
       "      <td>0.710000</td>\n",
       "      <td>0.179533</td>\n",
       "    </tr>\n",
       "    <tr>\n",
       "      <th>75%</th>\n",
       "      <td>1.000000</td>\n",
       "      <td>1.0</td>\n",
       "      <td>0.840000</td>\n",
       "      <td>0.206463</td>\n",
       "    </tr>\n",
       "    <tr>\n",
       "      <th>max</th>\n",
       "      <td>1.000000</td>\n",
       "      <td>1.0</td>\n",
       "      <td>1.000000</td>\n",
       "      <td>1.000000</td>\n",
       "    </tr>\n",
       "  </tbody>\n",
       "</table>\n",
       "</div>"
      ],
      "text/plain": [
       "       isFrequentReviewer  sentiment  audienceScore  runtimeMinutes\n",
       "count        21752.000000    21752.0   21752.000000    21752.000000\n",
       "mean             0.292479        1.0       0.695065        0.186281\n",
       "std              0.454912        0.0       0.177242        0.041489\n",
       "min              0.000000        1.0       0.000000        0.010772\n",
       "25%              0.000000        1.0       0.600000        0.161580\n",
       "50%              0.000000        1.0       0.710000        0.179533\n",
       "75%              1.000000        1.0       0.840000        0.206463\n",
       "max              1.000000        1.0       1.000000        1.000000"
      ]
     },
     "execution_count": 74,
     "metadata": {},
     "output_type": "execute_result"
    }
   ],
   "source": [
    "positive_test.describe()"
   ]
  },
  {
   "cell_type": "code",
   "execution_count": 75,
   "id": "e2213d80-dff2-4915-ad7f-201af7fe73ec",
   "metadata": {},
   "outputs": [
    {
     "data": {
      "text/html": [
       "<div>\n",
       "<style scoped>\n",
       "    .dataframe tbody tr th:only-of-type {\n",
       "        vertical-align: middle;\n",
       "    }\n",
       "\n",
       "    .dataframe tbody tr th {\n",
       "        vertical-align: top;\n",
       "    }\n",
       "\n",
       "    .dataframe thead th {\n",
       "        text-align: right;\n",
       "    }\n",
       "</style>\n",
       "<table border=\"1\" class=\"dataframe\">\n",
       "  <thead>\n",
       "    <tr style=\"text-align: right;\">\n",
       "      <th></th>\n",
       "      <th>isFrequentReviewer</th>\n",
       "      <th>sentiment</th>\n",
       "      <th>audienceScore</th>\n",
       "      <th>runtimeMinutes</th>\n",
       "    </tr>\n",
       "  </thead>\n",
       "  <tbody>\n",
       "    <tr>\n",
       "      <th>count</th>\n",
       "      <td>10800.000000</td>\n",
       "      <td>10800.0</td>\n",
       "      <td>10800.000000</td>\n",
       "      <td>10800.000000</td>\n",
       "    </tr>\n",
       "    <tr>\n",
       "      <th>mean</th>\n",
       "      <td>0.345556</td>\n",
       "      <td>0.0</td>\n",
       "      <td>0.576170</td>\n",
       "      <td>0.181652</td>\n",
       "    </tr>\n",
       "    <tr>\n",
       "      <th>std</th>\n",
       "      <td>0.475571</td>\n",
       "      <td>0.0</td>\n",
       "      <td>0.193471</td>\n",
       "      <td>0.037790</td>\n",
       "    </tr>\n",
       "    <tr>\n",
       "      <th>min</th>\n",
       "      <td>0.000000</td>\n",
       "      <td>0.0</td>\n",
       "      <td>0.000000</td>\n",
       "      <td>0.001795</td>\n",
       "    </tr>\n",
       "    <tr>\n",
       "      <th>25%</th>\n",
       "      <td>0.000000</td>\n",
       "      <td>0.0</td>\n",
       "      <td>0.430000</td>\n",
       "      <td>0.159785</td>\n",
       "    </tr>\n",
       "    <tr>\n",
       "      <th>50%</th>\n",
       "      <td>0.000000</td>\n",
       "      <td>0.0</td>\n",
       "      <td>0.590000</td>\n",
       "      <td>0.177738</td>\n",
       "    </tr>\n",
       "    <tr>\n",
       "      <th>75%</th>\n",
       "      <td>1.000000</td>\n",
       "      <td>0.0</td>\n",
       "      <td>0.710000</td>\n",
       "      <td>0.199282</td>\n",
       "    </tr>\n",
       "    <tr>\n",
       "      <th>max</th>\n",
       "      <td>1.000000</td>\n",
       "      <td>0.0</td>\n",
       "      <td>1.000000</td>\n",
       "      <td>0.863555</td>\n",
       "    </tr>\n",
       "  </tbody>\n",
       "</table>\n",
       "</div>"
      ],
      "text/plain": [
       "       isFrequentReviewer  sentiment  audienceScore  runtimeMinutes\n",
       "count        10800.000000    10800.0   10800.000000    10800.000000\n",
       "mean             0.345556        0.0       0.576170        0.181652\n",
       "std              0.475571        0.0       0.193471        0.037790\n",
       "min              0.000000        0.0       0.000000        0.001795\n",
       "25%              0.000000        0.0       0.430000        0.159785\n",
       "50%              0.000000        0.0       0.590000        0.177738\n",
       "75%              1.000000        0.0       0.710000        0.199282\n",
       "max              1.000000        0.0       1.000000        0.863555"
      ]
     },
     "execution_count": 75,
     "metadata": {},
     "output_type": "execute_result"
    }
   ],
   "source": [
    "negative_test.describe()"
   ]
  },
  {
   "cell_type": "code",
   "execution_count": 76,
   "id": "e2c25f89-9c35-47a2-bd7a-d87adba26d73",
   "metadata": {},
   "outputs": [
    {
     "data": {
      "text/html": [
       "<div>\n",
       "<style scoped>\n",
       "    .dataframe tbody tr th:only-of-type {\n",
       "        vertical-align: middle;\n",
       "    }\n",
       "\n",
       "    .dataframe tbody tr th {\n",
       "        vertical-align: top;\n",
       "    }\n",
       "\n",
       "    .dataframe thead th {\n",
       "        text-align: right;\n",
       "    }\n",
       "</style>\n",
       "<table border=\"1\" class=\"dataframe\">\n",
       "  <thead>\n",
       "    <tr style=\"text-align: right;\">\n",
       "      <th></th>\n",
       "      <th>reviewText</th>\n",
       "      <th>sentiment</th>\n",
       "      <th>audienceScore</th>\n",
       "      <th>runtimeMinutes</th>\n",
       "    </tr>\n",
       "  </thead>\n",
       "  <tbody>\n",
       "    <tr>\n",
       "      <th>0</th>\n",
       "      <td>henry selick movie coraline. stopmotion master...</td>\n",
       "      <td>1</td>\n",
       "      <td>0.65</td>\n",
       "      <td>0.181329</td>\n",
       "    </tr>\n",
       "    <tr>\n",
       "      <th>1</th>\n",
       "      <td>&amp;&amp;93he haphazard story assembled filmmakers co...</td>\n",
       "      <td>0</td>\n",
       "      <td>0.65</td>\n",
       "      <td>0.181329</td>\n",
       "    </tr>\n",
       "    <tr>\n",
       "      <th>2</th>\n",
       "      <td>stopmotion artistry wendell &amp;amp wild exquisit...</td>\n",
       "      <td>1</td>\n",
       "      <td>0.65</td>\n",
       "      <td>0.181329</td>\n",
       "    </tr>\n",
       "    <tr>\n",
       "      <th>3</th>\n",
       "      <td>wendell &amp;amp wild narratively overstuffed limi...</td>\n",
       "      <td>0</td>\n",
       "      <td>0.65</td>\n",
       "      <td>0.181329</td>\n",
       "    </tr>\n",
       "    <tr>\n",
       "      <th>4</th>\n",
       "      <td>netherworlds&amp; it&amp; warm inviting&amp;</td>\n",
       "      <td>1</td>\n",
       "      <td>0.65</td>\n",
       "      <td>0.181329</td>\n",
       "    </tr>\n",
       "    <tr>\n",
       "      <th>...</th>\n",
       "      <td>...</td>\n",
       "      <td>...</td>\n",
       "      <td>...</td>\n",
       "      <td>...</td>\n",
       "    </tr>\n",
       "    <tr>\n",
       "      <th>162753</th>\n",
       "      <td>broad shape predictable time it, write final c...</td>\n",
       "      <td>0</td>\n",
       "      <td>0.81</td>\n",
       "      <td>0.192101</td>\n",
       "    </tr>\n",
       "    <tr>\n",
       "      <th>162754</th>\n",
       "      <td>formula designed adolescent young adult specta...</td>\n",
       "      <td>1</td>\n",
       "      <td>0.75</td>\n",
       "      <td>0.159785</td>\n",
       "    </tr>\n",
       "    <tr>\n",
       "      <th>162755</th>\n",
       "      <td>years, soft spot heart it, clumsy glory. good ...</td>\n",
       "      <td>0</td>\n",
       "      <td>0.55</td>\n",
       "      <td>0.165171</td>\n",
       "    </tr>\n",
       "    <tr>\n",
       "      <th>162756</th>\n",
       "      <td>powerful documentary struggle west virginians ...</td>\n",
       "      <td>1</td>\n",
       "      <td>0.75</td>\n",
       "      <td>0.152603</td>\n",
       "    </tr>\n",
       "    <tr>\n",
       "      <th>162757</th>\n",
       "      <td>rock wildest years man music swirl psychedelic...</td>\n",
       "      <td>1</td>\n",
       "      <td>0.45</td>\n",
       "      <td>0.163375</td>\n",
       "    </tr>\n",
       "  </tbody>\n",
       "</table>\n",
       "<p>162758 rows × 4 columns</p>\n",
       "</div>"
      ],
      "text/plain": [
       "                                               reviewText  sentiment  \\\n",
       "0       henry selick movie coraline. stopmotion master...          1   \n",
       "1       &&93he haphazard story assembled filmmakers co...          0   \n",
       "2       stopmotion artistry wendell &amp wild exquisit...          1   \n",
       "3       wendell &amp wild narratively overstuffed limi...          0   \n",
       "4                        netherworlds& it& warm inviting&          1   \n",
       "...                                                   ...        ...   \n",
       "162753  broad shape predictable time it, write final c...          0   \n",
       "162754  formula designed adolescent young adult specta...          1   \n",
       "162755  years, soft spot heart it, clumsy glory. good ...          0   \n",
       "162756  powerful documentary struggle west virginians ...          1   \n",
       "162757  rock wildest years man music swirl psychedelic...          1   \n",
       "\n",
       "        audienceScore  runtimeMinutes  \n",
       "0                0.65        0.181329  \n",
       "1                0.65        0.181329  \n",
       "2                0.65        0.181329  \n",
       "3                0.65        0.181329  \n",
       "4                0.65        0.181329  \n",
       "...               ...             ...  \n",
       "162753           0.81        0.192101  \n",
       "162754           0.75        0.159785  \n",
       "162755           0.55        0.165171  \n",
       "162756           0.75        0.152603  \n",
       "162757           0.45        0.163375  \n",
       "\n",
       "[162758 rows x 4 columns]"
      ]
     },
     "execution_count": 76,
     "metadata": {},
     "output_type": "execute_result"
    }
   ],
   "source": [
    "merged_train_data= merged_train_data.drop(columns = ['movieid','reviewerName','isFrequentReviewer','title','releaseDateStreaming','genre','originalLanguage','director'],axis=1)\n",
    "merged_train_data"
   ]
  },
  {
   "cell_type": "markdown",
   "id": "a0b4807b-f844-47e7-889a-d95465d78ebf",
   "metadata": {},
   "source": [
    "# Feature Selection"
   ]
  },
  {
   "cell_type": "code",
   "execution_count": 77,
   "id": "7d1a88c2-c9a3-41fe-a0c2-533420afb782",
   "metadata": {},
   "outputs": [],
   "source": [
    "X = merged_train_data[['reviewText', 'audienceScore', 'runtimeMinutes']]\n",
    "y = merged_train_data['sentiment']\n"
   ]
  },
  {
   "cell_type": "code",
   "execution_count": 78,
   "id": "cc8bfe16-f5c2-48d4-bf07-b259c3745701",
   "metadata": {},
   "outputs": [
    {
     "data": {
      "text/plain": [
       "((162758, 3), (162758,))"
      ]
     },
     "execution_count": 78,
     "metadata": {},
     "output_type": "execute_result"
    }
   ],
   "source": [
    "X.shape,y.shape"
   ]
  },
  {
   "cell_type": "code",
   "execution_count": 79,
   "id": "4cae1bd3-e9a7-4fc2-b079-4bafc14a2ee5",
   "metadata": {},
   "outputs": [],
   "source": [
    "# Split the data into training and testing sets with stratified sampling\n",
    "X_train, X_test, y_train, y_test = train_test_split(X, y, test_size=0.2, stratify=y, random_state=10)"
   ]
  },
  {
   "cell_type": "code",
   "execution_count": 80,
   "id": "934b51a0-4bee-4fe9-9ee8-a63c6f2134d6",
   "metadata": {},
   "outputs": [
    {
     "data": {
      "text/plain": [
       "((130206, 3), (32552, 3), (130206,), (32552,))"
      ]
     },
     "execution_count": 80,
     "metadata": {},
     "output_type": "execute_result"
    }
   ],
   "source": [
    "X_train.shape, X_test.shape, y_train.shape, y_test.shape"
   ]
  },
  {
   "cell_type": "markdown",
   "id": "12220144-0381-4409-bfbe-4867919c261e",
   "metadata": {},
   "source": [
    "## Evaluation metrics functions"
   ]
  },
  {
   "cell_type": "code",
   "execution_count": 81,
   "id": "ef9e30d3-d2e8-4859-87b7-d4f1ab20e2df",
   "metadata": {},
   "outputs": [],
   "source": [
    "def report(X_test, y_test, pipeline):\n",
    "    # Check if the pipeline has a best_estimator_ attribute (for GridSearchCV)\n",
    "    if hasattr(pipeline, 'best_estimator_'):\n",
    "        best_estimator = pipeline.best_estimator_\n",
    "        y_pred = best_estimator.predict(X_test)\n",
    "    else:\n",
    "        y_pred = pipeline.predict(X_test)\n",
    "\n",
    "    # Print the classification report\n",
    "    report_text = classification_report(y_test, y_pred)\n",
    "    print(\"Classification Report:\\n\", report_text)\n",
    "    print(\"-------------------------------------------------------------\")\n",
    "\n",
    "    # Calculate and print the F1-micro score\n",
    "    f1_micro = f1_score(y_test, y_pred, average='micro')\n",
    "    print(\"F1-micro Score:\", f1_micro)\n",
    "    print(\"-------------------------------------------------------------\")\n",
    "\n",
    "    # Plot the confusion matrix\n",
    "    cm = confusion_matrix(y_test, y_pred)\n",
    "    plt.figure(figsize=(8, 6))\n",
    "    sns.heatmap(cm, annot=True, fmt='d', cmap='viridis', cbar=False)\n",
    "    plt.xlabel('Predicted Labels')\n",
    "    plt.ylabel('True Labels')\n",
    "    plt.title('Confusion Matrix')\n",
    "    plt.show()\n"
   ]
  },
  {
   "cell_type": "code",
   "execution_count": 82,
   "id": "616efd91-ec87-4be3-9579-4ca8bab1e57a",
   "metadata": {},
   "outputs": [],
   "source": [
    "#Function to plot the ROC curve and ROC AUC score\n",
    "def plot_roc_curve(y_true, y_prob):\n",
    "    # Calculate ROC curve\n",
    "    fpr, tpr, _ = roc_curve(y_true, y_prob)\n",
    "\n",
    "    # Calculate ROC AUC score\n",
    "    roc_auc = roc_auc_score(y_true, y_prob)\n",
    "\n",
    "    # Plot ROC curve\n",
    "    plt.figure(figsize=(10, 6))\n",
    "    plt.plot(fpr, tpr, color='darkorange', lw=2, label='ROC curve (area = %0.2f)' % roc_auc)\n",
    "    plt.plot([0, 1], [0, 1], color='navy', lw=2, linestyle='--')\n",
    "    plt.xlim([0.0, 1.0])\n",
    "    plt.ylim([0.0, 1.05])\n",
    "    plt.xlabel('False Positive Rate')\n",
    "    plt.ylabel('True Positive Rate')\n",
    "    plt.title('Receiver Operating Characteristic (ROC) Curve')\n",
    "    plt.legend(loc=\"lower right\")\n",
    "\n",
    "    # Plot ROC AUC curve\n",
    "    plt.figure(figsize=(6, 6))\n",
    "    plt.plot(fpr, tpr, color='darkorange', lw=2, label='ROC curve (area = %0.2f)' % roc_auc)\n",
    "    plt.fill_between(fpr, tpr, alpha=0.5, color='lightblue')\n",
    "    plt.plot([0, 1], [0, 1], color='navy', lw=2, linestyle='--')\n",
    "    plt.xlim([0.0, 1.0])\n",
    "    plt.ylim([0.0, 1.05])\n",
    "    plt.xlabel('False Positive Rate')\n",
    "    plt.ylabel('True Positive Rate')\n",
    "    plt.title('Receiver Operating Characteristic (ROC) Curve')\n",
    "    plt.legend(loc=\"lower right\")\n",
    "\n",
    "    plt.show()\n",
    "\n",
    "    # Print ROC AUC score\n",
    "    print(f\"ROC AUC: {roc_auc:.2f}\")\n"
   ]
  },
  {
   "cell_type": "code",
   "execution_count": 83,
   "id": "13646351-4920-4bc1-b988-38ba3d56a0d2",
   "metadata": {},
   "outputs": [],
   "source": [
    "def plot_precision_recall_curve_for_pipeline(pipeline, classifier_step, X_train, y_train):\n",
    "    # Fit the pipeline on the training data\n",
    "    pipeline.fit(X_train, y_train)\n",
    "    \n",
    "    # Predict probabilities on the training data\n",
    "    if hasattr(pipeline.named_steps[classifier_step], 'predict_proba'):\n",
    "        y_scores = pipeline.predict_proba(X_train)[:, 1]\n",
    "    else:\n",
    "        y_scores = pipeline.decision_function(X_train)\n",
    "    \n",
    "    # Calculate precision-recall values\n",
    "    precision, recall, _ = precision_recall_curve(y_train, y_scores)\n",
    "    \n",
    "    # Calculate area under the curve (AUC)\n",
    "    pr_auc = auc(recall, precision)\n",
    "    \n",
    "    # Plot the precision-recall curve\n",
    "    plt.figure(figsize=(8, 6))\n",
    "    plt.plot(recall, precision, color='b', label='Precision-Recall curve (AUC = {:.2f})'.format(pr_auc))\n",
    "    plt.xlabel('Recall')\n",
    "    plt.ylabel('Precision')\n",
    "    plt.title('Precision-Recall Curve')\n",
    "    plt.legend(loc='lower left')\n",
    "    plt.grid(True)\n",
    "    plt.show()\n",
    "\n",
    "\n"
   ]
  },
  {
   "cell_type": "code",
   "execution_count": 84,
   "id": "79dc7c97-169c-4240-b33c-9d8fd6b36b41",
   "metadata": {},
   "outputs": [],
   "source": [
    "#Precision-Recall curve for Test set\n",
    "\n",
    "def plot_precision_recall_curve_for_sets(pipeline, classifier_step, X_train, y_train, X_val, y_val):\n",
    "    # Fit the pipeline on the training data\n",
    "    pipeline.fit(X_train, y_train)\n",
    "    \n",
    "    # Plot for the training data\n",
    "    plot_precision_recall_curve(pipeline, classifier_step, X_train, y_train, title='Training Set')\n",
    "    \n",
    "    # Plot for the validation data\n",
    "    plot_precision_recall_curve(pipeline, classifier_step, X_val, y_val, title='Train Set')\n",
    "\n",
    "def plot_precision_recall_curve(pipeline, classifier_step, X, y, title):\n",
    "    # Predict probabilities\n",
    "    if hasattr(pipeline.named_steps[classifier_step], 'predict_proba'):\n",
    "        y_scores = pipeline.predict_proba(X)[:, 1]\n",
    "    else:\n",
    "        y_scores = pipeline.decision_function(X)\n",
    "    \n",
    "    # Calculate precision-recall values\n",
    "    precision, recall, _ = precision_recall_curve(y, y_scores)\n",
    "    \n",
    "    # Calculate area under the curve (AUC)\n",
    "    pr_auc = auc(recall, precision)\n",
    "    \n",
    "    # Plot the precision-recall curve\n",
    "    plt.figure(figsize=(8, 6))\n",
    "    plt.plot(recall, precision, color='b', label='Precision-Recall curve (AUC = {:.2f})'.format(pr_auc))\n",
    "    plt.xlabel('Recall')\n",
    "    plt.ylabel('Precision')\n",
    "    plt.title('Precision-Recall Curve - {}'.format(title))\n",
    "    plt.legend(loc='lower left')\n",
    "    plt.grid(True)\n",
    "    plt.show()"
   ]
  },
  {
   "cell_type": "markdown",
   "id": "07e847c8-2a31-4497-b144-d2d1496f46c0",
   "metadata": {},
   "source": [
    "# Feature Extraction"
   ]
  },
  {
   "cell_type": "code",
   "execution_count": 87,
   "id": "0d55fae6-ab95-45e1-97f3-5d9b576de919",
   "metadata": {},
   "outputs": [],
   "source": [
    "from sklearn.compose import ColumnTransformer\n",
    "from sklearn.feature_extraction.text import TfidfVectorizer\n",
    "from sklearn.preprocessing import MinMaxScaler\n",
    "\n",
    "# Define the tfidf_transformer\n",
    "tfidf_transformer = TfidfVectorizer()\n",
    "\n",
    "# Define the numeric_transformer\n",
    "numeric_transformer = MinMaxScaler()\n",
    "\n",
    "tfidf_column = 'reviewText'  # No list here\n",
    "numeric_columns = ['audienceScore', 'runtimeMinutes']\n",
    "\n",
    "preprocessor = ColumnTransformer(\n",
    "    transformers=[\n",
    "        ('tfidf', tfidf_transformer, tfidf_column),  # No list here\n",
    "        ('numeric', numeric_transformer, numeric_columns)\n",
    "    ])"
   ]
  },
  {
   "cell_type": "markdown",
   "id": "c8446777-8bb3-4d82-9395-164c3121c886",
   "metadata": {},
   "source": [
    "# Modelling"
   ]
  },
  {
   "cell_type": "markdown",
   "id": "326bb2c4-0753-4397-883f-2ff3608b6349",
   "metadata": {},
   "source": [
    "# Logistic Regression"
   ]
  },
  {
   "cell_type": "code",
   "execution_count": null,
   "id": "21202c98-f605-47cf-b4af-a222a616e160",
   "metadata": {},
   "outputs": [],
   "source": [
    "from sklearn.pipeline import Pipeline\n",
    "# Create the pipeline with preprocessor and Linear Regression\n",
    "pipe_log = Pipeline([\n",
    "    ('preprocessor', preprocessor),\n",
    "    ('logit', LogisticRegression(max_iter=1000))\n",
    "])\n",
    "\n",
    "# # Define the parameter grid\n",
    "param_grid_log = {\n",
    "    'preprocessor__tfidf__max_features': [1000, 5000], \n",
    "    'preprocessor__tfidf__ngram_range': [(1, 1)],\n",
    "    'logit__penalty': ['l1', 'l2'],\n",
    "    'logit__C': [0.1, 1],\n",
    "    'logit__fit_intercept': [True, False],\n",
    "    'logit__solver': ['liblinear','saga'],\n",
    "    'logit__class_weight': [None],\n",
    "    'logit__max_iter': [100, 500] # 2 options\n",
    "}\n",
    "\n",
    "# # Create the grid search object\n",
    "grid_search_log = GridSearchCV(pipe_log, param_grid_log, cv=5, verbose=1, scoring='f1') # You can change the scoring to any other appropriate metric\n",
    "\n",
    "# # Fit the grid search on the training data\n",
    "grid_search_log.fit(X_train, y_train)\n"
   ]
  },
  {
   "cell_type": "code",
   "execution_count": null,
   "id": "f6d4b903-0ed5-491d-a5db-91ac58734250",
   "metadata": {},
   "outputs": [],
   "source": [
    "# # Now you can access the best_params_ and best_estimator_ attributes\n",
    "best_params = grid_search_log.best_params_\n",
    "best_estimator = grid_search_log.best_estimator_"
   ]
  },
  {
   "cell_type": "code",
   "execution_count": null,
   "id": "8059f13e-815e-4bc9-ba76-a2065eea2ba9",
   "metadata": {},
   "outputs": [],
   "source": [
    "# # Evaluate the best estimator on the test data\n",
    "score = best_estimator.score(X_test, y_test)\n",
    "score"
   ]
  },
  {
   "cell_type": "code",
   "execution_count": null,
   "id": "15edf3fb-e0a4-4bf5-b69e-406e37b16106",
   "metadata": {},
   "outputs": [],
   "source": [
    "# # Get the predictions for the test data\n",
    "y_pred = best_estimator.predict(X_test)"
   ]
  },
  {
   "cell_type": "code",
   "execution_count": null,
   "id": "c51dc7d0-a80e-49da-9c57-2b8fc05e74cb",
   "metadata": {},
   "outputs": [],
   "source": [
    "# # Print best hyperparameters and classification report\n",
    "print(\"Best Hyperparameters:\", best_params)"
   ]
  },
  {
   "cell_type": "code",
   "execution_count": null,
   "id": "f49fea8a-e2d1-4bc1-91ac-7d8c9d74b681",
   "metadata": {},
   "outputs": [],
   "source": [
    "Best Hyperparameters: {'logit__C': 1, 'logit__class_weight': None, 'logit__fit_intercept': True, 'logit__max_iter': 100, 'logit__penalty': 'l1', 'logit__solver': 'liblinear', 'preprocessor__tfidf__max_features': 5000, 'preprocessor__tfidf__ngram_range': (1, 1)}"
   ]
  },
  {
   "cell_type": "code",
   "execution_count": null,
   "id": "42bda391-f240-4f04-a4db-5fa789f01cd2",
   "metadata": {},
   "outputs": [],
   "source": [
    "report(X_test, y_test, grid_search_log)"
   ]
  },
  {
   "cell_type": "code",
   "execution_count": null,
   "id": "5d60e681-b33c-450f-884e-0e97a0bee928",
   "metadata": {},
   "outputs": [],
   "source": [
    "import pickle\n",
    "\n",
    "# # Save the model to a file\n",
    "with open('best_logistic_model.pkl', 'wb') as f:\n",
    " pickle.dump(grid_search_log, f)\n",
    "\n",
    "# # You can also save the best parameters separately if needed\n",
    "with open('best_logistic_params.pkl', 'wb') as f:\n",
    "    pickle.dump(best_params, f)\n",
    "\n",
    "print(\"Model and parameters saved successfully!\")"
   ]
  },
  {
   "cell_type": "code",
   "execution_count": null,
   "id": "32eeaa30-0b9c-4c15-bc17-1a77c87ac583",
   "metadata": {},
   "outputs": [],
   "source": [
    "# # Load the model from the file\n",
    "with open('best_logistic_model.pkl', 'rb') as f:\n",
    "    loaded_model = pickle.load(f)\n",
    "\n",
    "# # Load the best parameters from the file\n",
    "with open('best_logistic_params.pkl', 'rb') as f:\n",
    "    loaded_best_params = pickle.load(f)\n",
    "\n",
    "# # You can now use loaded_model and loaded_best_params in your code\n",
    "print(\"Loaded Best Hyperparameters:\", loaded_best_params)"
   ]
  },
  {
   "cell_type": "code",
   "execution_count": null,
   "id": "ea514dd1-3d7b-48b7-9bd7-dd6a321610d5",
   "metadata": {},
   "outputs": [],
   "source": []
  }
 ],
 "metadata": {
  "kernelspec": {
   "display_name": "Python 3 (ipykernel)",
   "language": "python",
   "name": "python3"
  },
  "language_info": {
   "codemirror_mode": {
    "name": "ipython",
    "version": 3
   },
   "file_extension": ".py",
   "mimetype": "text/x-python",
   "name": "python",
   "nbconvert_exporter": "python",
   "pygments_lexer": "ipython3",
   "version": "3.11.7"
  }
 },
 "nbformat": 4,
 "nbformat_minor": 5
}
